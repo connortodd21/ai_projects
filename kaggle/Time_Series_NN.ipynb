{
  "nbformat": 4,
  "nbformat_minor": 0,
  "metadata": {
    "colab": {
      "name": "Time Series NN",
      "provenance": [],
      "toc_visible": true
    },
    "kernelspec": {
      "name": "python3",
      "display_name": "Python 3"
    },
    "language_info": {
      "name": "python"
    }
  },
  "cells": [
    {
      "cell_type": "markdown",
      "metadata": {
        "id": "Va7hhgJwdTjS"
      },
      "source": [
        "**Taken from https://www.kaggle.com/abhishekmamidi/time-series-analysis-artificial-neural-networks/notebook**"
      ]
    },
    {
      "cell_type": "markdown",
      "metadata": {
        "id": "hoAv8MhXaKRU"
      },
      "source": [
        "## Download data, import libraries"
      ]
    },
    {
      "cell_type": "code",
      "metadata": {
        "colab": {
          "base_uri": "https://localhost:8080/"
        },
        "id": "gLSuniDtaBzm",
        "outputId": "f27c95e2-625b-4d2b-cb7d-c7282960a298"
      },
      "source": [
        "!pip install kaggle"
      ],
      "execution_count": null,
      "outputs": [
        {
          "output_type": "stream",
          "text": [
            "Requirement already satisfied: kaggle in /usr/local/lib/python3.7/dist-packages (1.5.12)\n",
            "Requirement already satisfied: python-dateutil in /usr/local/lib/python3.7/dist-packages (from kaggle) (2.8.1)\n",
            "Requirement already satisfied: six>=1.10 in /usr/local/lib/python3.7/dist-packages (from kaggle) (1.15.0)\n",
            "Requirement already satisfied: python-slugify in /usr/local/lib/python3.7/dist-packages (from kaggle) (5.0.2)\n",
            "Requirement already satisfied: tqdm in /usr/local/lib/python3.7/dist-packages (from kaggle) (4.41.1)\n",
            "Requirement already satisfied: urllib3 in /usr/local/lib/python3.7/dist-packages (from kaggle) (1.24.3)\n",
            "Requirement already satisfied: requests in /usr/local/lib/python3.7/dist-packages (from kaggle) (2.23.0)\n",
            "Requirement already satisfied: certifi in /usr/local/lib/python3.7/dist-packages (from kaggle) (2020.12.5)\n",
            "Requirement already satisfied: text-unidecode>=1.3 in /usr/local/lib/python3.7/dist-packages (from python-slugify->kaggle) (1.3)\n",
            "Requirement already satisfied: idna<3,>=2.5 in /usr/local/lib/python3.7/dist-packages (from requests->kaggle) (2.10)\n",
            "Requirement already satisfied: chardet<4,>=3.0.2 in /usr/local/lib/python3.7/dist-packages (from requests->kaggle) (3.0.4)\n"
          ],
          "name": "stdout"
        }
      ]
    },
    {
      "cell_type": "code",
      "metadata": {
        "colab": {
          "resources": {
            "http://localhost:8080/nbextensions/google.colab/files.js": {
              "data": "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",
              "ok": true,
              "headers": [
                [
                  "content-type",
                  "application/javascript"
                ]
              ],
              "status": 200,
              "status_text": ""
            }
          },
          "base_uri": "https://localhost:8080/",
          "height": 89
        },
        "id": "bj7iJwA3aPDT",
        "outputId": "fdd46fb0-dd93-49d4-ef0e-c27b81733138"
      },
      "source": [
        "# Upload your kaggle api key\n",
        "from google.colab import files\n",
        "\n",
        "uploaded = files.upload()\n",
        "\n",
        "for fn in uploaded.keys():\n",
        "  print('User uploaded file \"{name}\" with length {length} bytes'.format(\n",
        "      name=fn, length=len(uploaded[fn])))\n",
        "  \n",
        "# Then move kaggle.json into the folder where the API expects to find it.\n",
        "!mkdir -p ~/.kaggle/ && mv kaggle.json ~/.kaggle/ && chmod 600 ~/.kaggle/kaggle.json"
      ],
      "execution_count": null,
      "outputs": [
        {
          "output_type": "display_data",
          "data": {
            "text/html": [
              "\n",
              "     <input type=\"file\" id=\"files-41211054-76d6-44af-b17d-29377b32e02a\" name=\"files[]\" multiple disabled\n",
              "        style=\"border:none\" />\n",
              "     <output id=\"result-41211054-76d6-44af-b17d-29377b32e02a\">\n",
              "      Upload widget is only available when the cell has been executed in the\n",
              "      current browser session. Please rerun this cell to enable.\n",
              "      </output>\n",
              "      <script src=\"/nbextensions/google.colab/files.js\"></script> "
            ],
            "text/plain": [
              "<IPython.core.display.HTML object>"
            ]
          },
          "metadata": {
            "tags": []
          }
        },
        {
          "output_type": "stream",
          "text": [
            "Saving kaggle.json to kaggle.json\n",
            "User uploaded file \"kaggle.json\" with length 66 bytes\n"
          ],
          "name": "stdout"
        }
      ]
    },
    {
      "cell_type": "code",
      "metadata": {
        "id": "_7oxL9s-aVAc"
      },
      "source": [
        "!rm -r data/\n",
        "!mkdir data/"
      ],
      "execution_count": null,
      "outputs": []
    },
    {
      "cell_type": "code",
      "metadata": {
        "colab": {
          "base_uri": "https://localhost:8080/"
        },
        "id": "5Y4WFsemadAT",
        "outputId": "1ac37489-d441-4c22-b875-a06cd77b706f"
      },
      "source": [
        "!kaggle datasets download -d abhishekmamidi/precipitation-data-of-pune-from-1965-to-2002\n",
        "!unzip precipitation-data-of-pune-from-1965-to-2002.zip\n",
        "!mv precipitation-data-of-pune-from-1965-to-2002.zip data/\n",
        "!mv pune_1965_to_2002.csv data/"
      ],
      "execution_count": null,
      "outputs": [
        {
          "output_type": "stream",
          "text": [
            "Downloading precipitation-data-of-pune-from-1965-to-2002.zip to /content\n",
            "\r  0% 0.00/1.71k [00:00<?, ?B/s]\n",
            "\r100% 1.71k/1.71k [00:00<00:00, 2.59MB/s]\n",
            "Archive:  precipitation-data-of-pune-from-1965-to-2002.zip\n",
            "  inflating: pune_1965_to_2002.csv   \n"
          ],
          "name": "stdout"
        }
      ]
    },
    {
      "cell_type": "code",
      "metadata": {
        "id": "cDxjJuYKatGb"
      },
      "source": [
        "import numpy as np\n",
        "import pandas as pd\n",
        "from keras.models import Sequential\n",
        "from keras.layers import Dense\n",
        "from keras.layers import Dropout\n",
        "from keras.layers import BatchNormalization\n",
        "from keras.layers import LSTM\n",
        "from keras.callbacks import History \n",
        "from sklearn.preprocessing import MinMaxScaler\n",
        "from sklearn.metrics import mean_absolute_error\n",
        "from sklearn.metrics import mean_squared_error\n",
        "\n",
        "import matplotlib.pyplot as plt\n",
        "%matplotlib inline\n",
        "\n",
        "from IPython.display import SVG\n",
        "from keras.utils.vis_utils import model_to_dot\n",
        "\n",
        "import math\n",
        "import itertools\n",
        "import warnings\n",
        "warnings.filterwarnings('ignore')\n",
        "import pdb"
      ],
      "execution_count": null,
      "outputs": []
    },
    {
      "cell_type": "markdown",
      "metadata": {
        "id": "5q-I8xiIcJMU"
      },
      "source": [
        "## Analyze Data"
      ]
    },
    {
      "cell_type": "code",
      "metadata": {
        "id": "Ze1L7EXmb_f3"
      },
      "source": [
        "df = pd.read_csv(\"./data/pune_1965_to_2002.csv\")"
      ],
      "execution_count": null,
      "outputs": []
    },
    {
      "cell_type": "code",
      "metadata": {
        "colab": {
          "base_uri": "https://localhost:8080/",
          "height": 204
        },
        "id": "cawUIiFocPXX",
        "outputId": "daf96105-9968-4df1-d657-b6c5d0871208"
      },
      "source": [
        "df.head()"
      ],
      "execution_count": null,
      "outputs": [
        {
          "output_type": "execute_result",
          "data": {
            "text/html": [
              "<div>\n",
              "<style scoped>\n",
              "    .dataframe tbody tr th:only-of-type {\n",
              "        vertical-align: middle;\n",
              "    }\n",
              "\n",
              "    .dataframe tbody tr th {\n",
              "        vertical-align: top;\n",
              "    }\n",
              "\n",
              "    .dataframe thead th {\n",
              "        text-align: right;\n",
              "    }\n",
              "</style>\n",
              "<table border=\"1\" class=\"dataframe\">\n",
              "  <thead>\n",
              "    <tr style=\"text-align: right;\">\n",
              "      <th></th>\n",
              "      <th>Year</th>\n",
              "      <th>Jan</th>\n",
              "      <th>Feb</th>\n",
              "      <th>Mar</th>\n",
              "      <th>Apr</th>\n",
              "      <th>May</th>\n",
              "      <th>Jun</th>\n",
              "      <th>Jul</th>\n",
              "      <th>Aug</th>\n",
              "      <th>Sep</th>\n",
              "      <th>Oct</th>\n",
              "      <th>Nov</th>\n",
              "      <th>Dec</th>\n",
              "    </tr>\n",
              "  </thead>\n",
              "  <tbody>\n",
              "    <tr>\n",
              "      <th>0</th>\n",
              "      <td>1965</td>\n",
              "      <td>0.029</td>\n",
              "      <td>0.069</td>\n",
              "      <td>0.000</td>\n",
              "      <td>21.667</td>\n",
              "      <td>17.859</td>\n",
              "      <td>102.111</td>\n",
              "      <td>606.071</td>\n",
              "      <td>402.521</td>\n",
              "      <td>69.511</td>\n",
              "      <td>5.249</td>\n",
              "      <td>16.232</td>\n",
              "      <td>22.075</td>\n",
              "    </tr>\n",
              "    <tr>\n",
              "      <th>1</th>\n",
              "      <td>1966</td>\n",
              "      <td>0.905</td>\n",
              "      <td>0.000</td>\n",
              "      <td>0.000</td>\n",
              "      <td>2.981</td>\n",
              "      <td>63.008</td>\n",
              "      <td>94.088</td>\n",
              "      <td>481.942</td>\n",
              "      <td>59.386</td>\n",
              "      <td>150.624</td>\n",
              "      <td>1.308</td>\n",
              "      <td>41.214</td>\n",
              "      <td>4.132</td>\n",
              "    </tr>\n",
              "    <tr>\n",
              "      <th>2</th>\n",
              "      <td>1967</td>\n",
              "      <td>0.248</td>\n",
              "      <td>3.390</td>\n",
              "      <td>1.320</td>\n",
              "      <td>13.482</td>\n",
              "      <td>11.116</td>\n",
              "      <td>251.314</td>\n",
              "      <td>780.006</td>\n",
              "      <td>181.069</td>\n",
              "      <td>183.757</td>\n",
              "      <td>50.404</td>\n",
              "      <td>8.393</td>\n",
              "      <td>37.685</td>\n",
              "    </tr>\n",
              "    <tr>\n",
              "      <th>3</th>\n",
              "      <td>1968</td>\n",
              "      <td>0.318</td>\n",
              "      <td>3.035</td>\n",
              "      <td>1.704</td>\n",
              "      <td>23.307</td>\n",
              "      <td>7.441</td>\n",
              "      <td>179.872</td>\n",
              "      <td>379.354</td>\n",
              "      <td>171.979</td>\n",
              "      <td>219.884</td>\n",
              "      <td>73.997</td>\n",
              "      <td>23.326</td>\n",
              "      <td>2.020</td>\n",
              "    </tr>\n",
              "    <tr>\n",
              "      <th>4</th>\n",
              "      <td>1969</td>\n",
              "      <td>0.248</td>\n",
              "      <td>2.524</td>\n",
              "      <td>0.334</td>\n",
              "      <td>4.569</td>\n",
              "      <td>6.213</td>\n",
              "      <td>393.682</td>\n",
              "      <td>678.354</td>\n",
              "      <td>397.335</td>\n",
              "      <td>205.413</td>\n",
              "      <td>24.014</td>\n",
              "      <td>24.385</td>\n",
              "      <td>1.951</td>\n",
              "    </tr>\n",
              "  </tbody>\n",
              "</table>\n",
              "</div>"
            ],
            "text/plain": [
              "   Year    Jan    Feb    Mar     Apr  ...      Aug      Sep     Oct     Nov     Dec\n",
              "0  1965  0.029  0.069  0.000  21.667  ...  402.521   69.511   5.249  16.232  22.075\n",
              "1  1966  0.905  0.000  0.000   2.981  ...   59.386  150.624   1.308  41.214   4.132\n",
              "2  1967  0.248  3.390  1.320  13.482  ...  181.069  183.757  50.404   8.393  37.685\n",
              "3  1968  0.318  3.035  1.704  23.307  ...  171.979  219.884  73.997  23.326   2.020\n",
              "4  1969  0.248  2.524  0.334   4.569  ...  397.335  205.413  24.014  24.385   1.951\n",
              "\n",
              "[5 rows x 13 columns]"
            ]
          },
          "metadata": {
            "tags": []
          },
          "execution_count": 8
        }
      ]
    },
    {
      "cell_type": "code",
      "metadata": {
        "colab": {
          "base_uri": "https://localhost:8080/",
          "height": 441
        },
        "id": "tYFrx9zZcnDu",
        "outputId": "972d6759-2bf0-4028-d853-8af1213e3d39"
      },
      "source": [
        "df.set_index(\"Year\", inplace=True)\n",
        "df = df.transpose()\n",
        "df"
      ],
      "execution_count": null,
      "outputs": [
        {
          "output_type": "execute_result",
          "data": {
            "text/html": [
              "<div>\n",
              "<style scoped>\n",
              "    .dataframe tbody tr th:only-of-type {\n",
              "        vertical-align: middle;\n",
              "    }\n",
              "\n",
              "    .dataframe tbody tr th {\n",
              "        vertical-align: top;\n",
              "    }\n",
              "\n",
              "    .dataframe thead th {\n",
              "        text-align: right;\n",
              "    }\n",
              "</style>\n",
              "<table border=\"1\" class=\"dataframe\">\n",
              "  <thead>\n",
              "    <tr style=\"text-align: right;\">\n",
              "      <th>Year</th>\n",
              "      <th>1965</th>\n",
              "      <th>1966</th>\n",
              "      <th>1967</th>\n",
              "      <th>1968</th>\n",
              "      <th>1969</th>\n",
              "      <th>1970</th>\n",
              "      <th>1971</th>\n",
              "      <th>1972</th>\n",
              "      <th>1973</th>\n",
              "      <th>1974</th>\n",
              "      <th>1975</th>\n",
              "      <th>1976</th>\n",
              "      <th>1977</th>\n",
              "      <th>1978</th>\n",
              "      <th>1979</th>\n",
              "      <th>1980</th>\n",
              "      <th>1981</th>\n",
              "      <th>1982</th>\n",
              "      <th>1983</th>\n",
              "      <th>1984</th>\n",
              "      <th>1985</th>\n",
              "      <th>1986</th>\n",
              "      <th>1987</th>\n",
              "      <th>1988</th>\n",
              "      <th>1989</th>\n",
              "      <th>1990</th>\n",
              "      <th>1991</th>\n",
              "      <th>1992</th>\n",
              "      <th>1993</th>\n",
              "      <th>1994</th>\n",
              "      <th>1995</th>\n",
              "      <th>1996</th>\n",
              "      <th>1997</th>\n",
              "      <th>1998</th>\n",
              "      <th>1999</th>\n",
              "      <th>2000</th>\n",
              "      <th>2001</th>\n",
              "      <th>2002</th>\n",
              "    </tr>\n",
              "  </thead>\n",
              "  <tbody>\n",
              "    <tr>\n",
              "      <th>Jan</th>\n",
              "      <td>0.029</td>\n",
              "      <td>0.905</td>\n",
              "      <td>0.248</td>\n",
              "      <td>0.318</td>\n",
              "      <td>0.248</td>\n",
              "      <td>0.070</td>\n",
              "      <td>0.000</td>\n",
              "      <td>0.000</td>\n",
              "      <td>0.000</td>\n",
              "      <td>0.000</td>\n",
              "      <td>0.333</td>\n",
              "      <td>0.000</td>\n",
              "      <td>0.000</td>\n",
              "      <td>0.061</td>\n",
              "      <td>0.000</td>\n",
              "      <td>0.008</td>\n",
              "      <td>2.257</td>\n",
              "      <td>0.000</td>\n",
              "      <td>0.395</td>\n",
              "      <td>0.000</td>\n",
              "      <td>0.025</td>\n",
              "      <td>0.000</td>\n",
              "      <td>3.013</td>\n",
              "      <td>0.000</td>\n",
              "      <td>0.008</td>\n",
              "      <td>0.004</td>\n",
              "      <td>0.004</td>\n",
              "      <td>0.000</td>\n",
              "      <td>0.000</td>\n",
              "      <td>0.879</td>\n",
              "      <td>0.695</td>\n",
              "      <td>0.016</td>\n",
              "      <td>1.284</td>\n",
              "      <td>0.008</td>\n",
              "      <td>0.000</td>\n",
              "      <td>0.000</td>\n",
              "      <td>0.147</td>\n",
              "      <td>0.231</td>\n",
              "    </tr>\n",
              "    <tr>\n",
              "      <th>Feb</th>\n",
              "      <td>0.069</td>\n",
              "      <td>0.000</td>\n",
              "      <td>3.390</td>\n",
              "      <td>3.035</td>\n",
              "      <td>2.524</td>\n",
              "      <td>0.000</td>\n",
              "      <td>0.000</td>\n",
              "      <td>0.029</td>\n",
              "      <td>2.969</td>\n",
              "      <td>0.000</td>\n",
              "      <td>0.585</td>\n",
              "      <td>0.000</td>\n",
              "      <td>2.981</td>\n",
              "      <td>4.197</td>\n",
              "      <td>0.386</td>\n",
              "      <td>0.000</td>\n",
              "      <td>2.121</td>\n",
              "      <td>0.560</td>\n",
              "      <td>0.000</td>\n",
              "      <td>0.391</td>\n",
              "      <td>0.000</td>\n",
              "      <td>1.229</td>\n",
              "      <td>8.410</td>\n",
              "      <td>0.000</td>\n",
              "      <td>0.000</td>\n",
              "      <td>0.531</td>\n",
              "      <td>0.071</td>\n",
              "      <td>0.000</td>\n",
              "      <td>0.078</td>\n",
              "      <td>0.325</td>\n",
              "      <td>0.000</td>\n",
              "      <td>2.779</td>\n",
              "      <td>0.000</td>\n",
              "      <td>2.671</td>\n",
              "      <td>1.431</td>\n",
              "      <td>0.170</td>\n",
              "      <td>0.000</td>\n",
              "      <td>0.911</td>\n",
              "    </tr>\n",
              "    <tr>\n",
              "      <th>Mar</th>\n",
              "      <td>0.000</td>\n",
              "      <td>0.000</td>\n",
              "      <td>1.320</td>\n",
              "      <td>1.704</td>\n",
              "      <td>0.334</td>\n",
              "      <td>0.001</td>\n",
              "      <td>0.000</td>\n",
              "      <td>0.000</td>\n",
              "      <td>0.234</td>\n",
              "      <td>6.427</td>\n",
              "      <td>0.000</td>\n",
              "      <td>5.993</td>\n",
              "      <td>3.289</td>\n",
              "      <td>4.004</td>\n",
              "      <td>3.343</td>\n",
              "      <td>8.329</td>\n",
              "      <td>0.445</td>\n",
              "      <td>0.000</td>\n",
              "      <td>0.000</td>\n",
              "      <td>5.772</td>\n",
              "      <td>0.922</td>\n",
              "      <td>0.000</td>\n",
              "      <td>1.367</td>\n",
              "      <td>0.000</td>\n",
              "      <td>9.619</td>\n",
              "      <td>0.789</td>\n",
              "      <td>0.972</td>\n",
              "      <td>0.000</td>\n",
              "      <td>1.211</td>\n",
              "      <td>2.415</td>\n",
              "      <td>1.770</td>\n",
              "      <td>0.087</td>\n",
              "      <td>0.747</td>\n",
              "      <td>0.073</td>\n",
              "      <td>0.000</td>\n",
              "      <td>0.000</td>\n",
              "      <td>2.178</td>\n",
              "      <td>0.388</td>\n",
              "    </tr>\n",
              "    <tr>\n",
              "      <th>Apr</th>\n",
              "      <td>21.667</td>\n",
              "      <td>2.981</td>\n",
              "      <td>13.482</td>\n",
              "      <td>23.307</td>\n",
              "      <td>4.569</td>\n",
              "      <td>16.218</td>\n",
              "      <td>0.812</td>\n",
              "      <td>5.982</td>\n",
              "      <td>3.925</td>\n",
              "      <td>16.864</td>\n",
              "      <td>0.061</td>\n",
              "      <td>4.454</td>\n",
              "      <td>4.432</td>\n",
              "      <td>44.623</td>\n",
              "      <td>0.126</td>\n",
              "      <td>28.764</td>\n",
              "      <td>10.817</td>\n",
              "      <td>14.585</td>\n",
              "      <td>0.061</td>\n",
              "      <td>4.997</td>\n",
              "      <td>11.512</td>\n",
              "      <td>4.567</td>\n",
              "      <td>3.864</td>\n",
              "      <td>43.570</td>\n",
              "      <td>20.774</td>\n",
              "      <td>0.274</td>\n",
              "      <td>27.964</td>\n",
              "      <td>3.165</td>\n",
              "      <td>2.062</td>\n",
              "      <td>16.823</td>\n",
              "      <td>25.949</td>\n",
              "      <td>6.318</td>\n",
              "      <td>23.912</td>\n",
              "      <td>0.377</td>\n",
              "      <td>0.642</td>\n",
              "      <td>1.193</td>\n",
              "      <td>1.528</td>\n",
              "      <td>53.266</td>\n",
              "    </tr>\n",
              "    <tr>\n",
              "      <th>May</th>\n",
              "      <td>17.859</td>\n",
              "      <td>63.008</td>\n",
              "      <td>11.116</td>\n",
              "      <td>7.441</td>\n",
              "      <td>6.213</td>\n",
              "      <td>68.036</td>\n",
              "      <td>57.691</td>\n",
              "      <td>19.101</td>\n",
              "      <td>14.978</td>\n",
              "      <td>51.209</td>\n",
              "      <td>30.651</td>\n",
              "      <td>3.577</td>\n",
              "      <td>32.130</td>\n",
              "      <td>52.950</td>\n",
              "      <td>6.860</td>\n",
              "      <td>4.816</td>\n",
              "      <td>17.193</td>\n",
              "      <td>50.468</td>\n",
              "      <td>1.056</td>\n",
              "      <td>0.508</td>\n",
              "      <td>6.458</td>\n",
              "      <td>22.547</td>\n",
              "      <td>80.539</td>\n",
              "      <td>12.862</td>\n",
              "      <td>20.176</td>\n",
              "      <td>78.384</td>\n",
              "      <td>30.405</td>\n",
              "      <td>9.580</td>\n",
              "      <td>3.248</td>\n",
              "      <td>33.378</td>\n",
              "      <td>23.964</td>\n",
              "      <td>5.134</td>\n",
              "      <td>4.664</td>\n",
              "      <td>15.717</td>\n",
              "      <td>35.828</td>\n",
              "      <td>26.237</td>\n",
              "      <td>7.860</td>\n",
              "      <td>18.430</td>\n",
              "    </tr>\n",
              "    <tr>\n",
              "      <th>Jun</th>\n",
              "      <td>102.111</td>\n",
              "      <td>94.088</td>\n",
              "      <td>251.314</td>\n",
              "      <td>179.872</td>\n",
              "      <td>393.682</td>\n",
              "      <td>300.546</td>\n",
              "      <td>297.187</td>\n",
              "      <td>132.413</td>\n",
              "      <td>304.484</td>\n",
              "      <td>148.697</td>\n",
              "      <td>359.369</td>\n",
              "      <td>773.737</td>\n",
              "      <td>319.716</td>\n",
              "      <td>403.860</td>\n",
              "      <td>342.324</td>\n",
              "      <td>349.975</td>\n",
              "      <td>360.788</td>\n",
              "      <td>145.343</td>\n",
              "      <td>225.847</td>\n",
              "      <td>367.058</td>\n",
              "      <td>234.930</td>\n",
              "      <td>635.977</td>\n",
              "      <td>200.950</td>\n",
              "      <td>186.431</td>\n",
              "      <td>425.984</td>\n",
              "      <td>423.314</td>\n",
              "      <td>565.900</td>\n",
              "      <td>227.180</td>\n",
              "      <td>234.068</td>\n",
              "      <td>749.030</td>\n",
              "      <td>163.515</td>\n",
              "      <td>453.607</td>\n",
              "      <td>673.831</td>\n",
              "      <td>238.609</td>\n",
              "      <td>415.471</td>\n",
              "      <td>371.328</td>\n",
              "      <td>247.982</td>\n",
              "      <td>509.145</td>\n",
              "    </tr>\n",
              "    <tr>\n",
              "      <th>Jul</th>\n",
              "      <td>606.071</td>\n",
              "      <td>481.942</td>\n",
              "      <td>780.006</td>\n",
              "      <td>379.354</td>\n",
              "      <td>678.354</td>\n",
              "      <td>330.502</td>\n",
              "      <td>122.195</td>\n",
              "      <td>338.484</td>\n",
              "      <td>696.024</td>\n",
              "      <td>405.359</td>\n",
              "      <td>474.143</td>\n",
              "      <td>545.379</td>\n",
              "      <td>407.246</td>\n",
              "      <td>192.399</td>\n",
              "      <td>403.925</td>\n",
              "      <td>344.268</td>\n",
              "      <td>507.155</td>\n",
              "      <td>186.691</td>\n",
              "      <td>390.041</td>\n",
              "      <td>621.607</td>\n",
              "      <td>325.191</td>\n",
              "      <td>202.570</td>\n",
              "      <td>172.864</td>\n",
              "      <td>740.613</td>\n",
              "      <td>484.451</td>\n",
              "      <td>583.557</td>\n",
              "      <td>479.719</td>\n",
              "      <td>321.551</td>\n",
              "      <td>450.088</td>\n",
              "      <td>707.986</td>\n",
              "      <td>501.461</td>\n",
              "      <td>558.586</td>\n",
              "      <td>422.913</td>\n",
              "      <td>590.663</td>\n",
              "      <td>277.137</td>\n",
              "      <td>265.417</td>\n",
              "      <td>279.547</td>\n",
              "      <td>84.936</td>\n",
              "    </tr>\n",
              "    <tr>\n",
              "      <th>Aug</th>\n",
              "      <td>402.521</td>\n",
              "      <td>59.386</td>\n",
              "      <td>181.069</td>\n",
              "      <td>171.979</td>\n",
              "      <td>397.335</td>\n",
              "      <td>283.476</td>\n",
              "      <td>372.693</td>\n",
              "      <td>68.741</td>\n",
              "      <td>256.932</td>\n",
              "      <td>319.651</td>\n",
              "      <td>404.372</td>\n",
              "      <td>436.912</td>\n",
              "      <td>129.678</td>\n",
              "      <td>239.066</td>\n",
              "      <td>451.153</td>\n",
              "      <td>404.191</td>\n",
              "      <td>217.037</td>\n",
              "      <td>194.307</td>\n",
              "      <td>537.764</td>\n",
              "      <td>138.006</td>\n",
              "      <td>297.802</td>\n",
              "      <td>247.395</td>\n",
              "      <td>477.113</td>\n",
              "      <td>211.781</td>\n",
              "      <td>177.257</td>\n",
              "      <td>451.707</td>\n",
              "      <td>193.423</td>\n",
              "      <td>428.764</td>\n",
              "      <td>150.278</td>\n",
              "      <td>230.898</td>\n",
              "      <td>114.206</td>\n",
              "      <td>212.489</td>\n",
              "      <td>541.579</td>\n",
              "      <td>362.357</td>\n",
              "      <td>98.616</td>\n",
              "      <td>220.814</td>\n",
              "      <td>189.404</td>\n",
              "      <td>257.205</td>\n",
              "    </tr>\n",
              "    <tr>\n",
              "      <th>Sep</th>\n",
              "      <td>69.511</td>\n",
              "      <td>150.624</td>\n",
              "      <td>183.757</td>\n",
              "      <td>219.884</td>\n",
              "      <td>205.413</td>\n",
              "      <td>158.640</td>\n",
              "      <td>286.056</td>\n",
              "      <td>120.415</td>\n",
              "      <td>183.206</td>\n",
              "      <td>288.533</td>\n",
              "      <td>400.001</td>\n",
              "      <td>108.459</td>\n",
              "      <td>89.150</td>\n",
              "      <td>139.119</td>\n",
              "      <td>440.381</td>\n",
              "      <td>94.127</td>\n",
              "      <td>361.165</td>\n",
              "      <td>239.402</td>\n",
              "      <td>428.050</td>\n",
              "      <td>229.276</td>\n",
              "      <td>88.877</td>\n",
              "      <td>105.095</td>\n",
              "      <td>44.574</td>\n",
              "      <td>613.522</td>\n",
              "      <td>236.803</td>\n",
              "      <td>69.182</td>\n",
              "      <td>178.727</td>\n",
              "      <td>287.582</td>\n",
              "      <td>101.928</td>\n",
              "      <td>115.509</td>\n",
              "      <td>288.262</td>\n",
              "      <td>203.642</td>\n",
              "      <td>60.477</td>\n",
              "      <td>243.444</td>\n",
              "      <td>225.962</td>\n",
              "      <td>147.196</td>\n",
              "      <td>158.025</td>\n",
              "      <td>78.269</td>\n",
              "    </tr>\n",
              "    <tr>\n",
              "      <th>Oct</th>\n",
              "      <td>5.249</td>\n",
              "      <td>1.308</td>\n",
              "      <td>50.404</td>\n",
              "      <td>73.997</td>\n",
              "      <td>24.014</td>\n",
              "      <td>115.758</td>\n",
              "      <td>39.424</td>\n",
              "      <td>1.078</td>\n",
              "      <td>101.805</td>\n",
              "      <td>188.876</td>\n",
              "      <td>105.560</td>\n",
              "      <td>13.611</td>\n",
              "      <td>83.193</td>\n",
              "      <td>26.711</td>\n",
              "      <td>19.084</td>\n",
              "      <td>10.826</td>\n",
              "      <td>80.018</td>\n",
              "      <td>49.257</td>\n",
              "      <td>30.771</td>\n",
              "      <td>167.164</td>\n",
              "      <td>139.919</td>\n",
              "      <td>3.746</td>\n",
              "      <td>150.179</td>\n",
              "      <td>12.375</td>\n",
              "      <td>23.424</td>\n",
              "      <td>115.349</td>\n",
              "      <td>4.135</td>\n",
              "      <td>40.079</td>\n",
              "      <td>225.904</td>\n",
              "      <td>116.348</td>\n",
              "      <td>84.359</td>\n",
              "      <td>176.471</td>\n",
              "      <td>31.050</td>\n",
              "      <td>96.324</td>\n",
              "      <td>180.300</td>\n",
              "      <td>38.246</td>\n",
              "      <td>135.518</td>\n",
              "      <td>21.486</td>\n",
              "    </tr>\n",
              "    <tr>\n",
              "      <th>Nov</th>\n",
              "      <td>16.232</td>\n",
              "      <td>41.214</td>\n",
              "      <td>8.393</td>\n",
              "      <td>23.326</td>\n",
              "      <td>24.385</td>\n",
              "      <td>0.260</td>\n",
              "      <td>0.554</td>\n",
              "      <td>24.089</td>\n",
              "      <td>5.516</td>\n",
              "      <td>0.260</td>\n",
              "      <td>2.763</td>\n",
              "      <td>44.887</td>\n",
              "      <td>122.809</td>\n",
              "      <td>60.996</td>\n",
              "      <td>101.597</td>\n",
              "      <td>15.533</td>\n",
              "      <td>3.715</td>\n",
              "      <td>62.474</td>\n",
              "      <td>1.008</td>\n",
              "      <td>3.786</td>\n",
              "      <td>108.561</td>\n",
              "      <td>7.457</td>\n",
              "      <td>18.281</td>\n",
              "      <td>0.458</td>\n",
              "      <td>0.585</td>\n",
              "      <td>41.888</td>\n",
              "      <td>15.936</td>\n",
              "      <td>5.982</td>\n",
              "      <td>6.240</td>\n",
              "      <td>14.098</td>\n",
              "      <td>4.866</td>\n",
              "      <td>12.202</td>\n",
              "      <td>65.392</td>\n",
              "      <td>52.965</td>\n",
              "      <td>0.263</td>\n",
              "      <td>15.274</td>\n",
              "      <td>23.633</td>\n",
              "      <td>0.614</td>\n",
              "    </tr>\n",
              "    <tr>\n",
              "      <th>Dec</th>\n",
              "      <td>22.075</td>\n",
              "      <td>4.132</td>\n",
              "      <td>37.685</td>\n",
              "      <td>2.020</td>\n",
              "      <td>1.951</td>\n",
              "      <td>0.000</td>\n",
              "      <td>0.000</td>\n",
              "      <td>0.143</td>\n",
              "      <td>0.000</td>\n",
              "      <td>0.000</td>\n",
              "      <td>0.000</td>\n",
              "      <td>4.158</td>\n",
              "      <td>7.530</td>\n",
              "      <td>0.597</td>\n",
              "      <td>0.008</td>\n",
              "      <td>7.348</td>\n",
              "      <td>0.050</td>\n",
              "      <td>0.000</td>\n",
              "      <td>1.955</td>\n",
              "      <td>0.396</td>\n",
              "      <td>0.655</td>\n",
              "      <td>37.386</td>\n",
              "      <td>36.845</td>\n",
              "      <td>1.037</td>\n",
              "      <td>0.943</td>\n",
              "      <td>1.315</td>\n",
              "      <td>0.000</td>\n",
              "      <td>0.000</td>\n",
              "      <td>35.147</td>\n",
              "      <td>0.000</td>\n",
              "      <td>0.021</td>\n",
              "      <td>0.000</td>\n",
              "      <td>18.991</td>\n",
              "      <td>0.035</td>\n",
              "      <td>0.033</td>\n",
              "      <td>8.187</td>\n",
              "      <td>0.003</td>\n",
              "      <td>0.000</td>\n",
              "    </tr>\n",
              "  </tbody>\n",
              "</table>\n",
              "</div>"
            ],
            "text/plain": [
              "Year     1965     1966     1967     1968  ...     1999     2000     2001     2002\n",
              "Jan     0.029    0.905    0.248    0.318  ...    0.000    0.000    0.147    0.231\n",
              "Feb     0.069    0.000    3.390    3.035  ...    1.431    0.170    0.000    0.911\n",
              "Mar     0.000    0.000    1.320    1.704  ...    0.000    0.000    2.178    0.388\n",
              "Apr    21.667    2.981   13.482   23.307  ...    0.642    1.193    1.528   53.266\n",
              "May    17.859   63.008   11.116    7.441  ...   35.828   26.237    7.860   18.430\n",
              "Jun   102.111   94.088  251.314  179.872  ...  415.471  371.328  247.982  509.145\n",
              "Jul   606.071  481.942  780.006  379.354  ...  277.137  265.417  279.547   84.936\n",
              "Aug   402.521   59.386  181.069  171.979  ...   98.616  220.814  189.404  257.205\n",
              "Sep    69.511  150.624  183.757  219.884  ...  225.962  147.196  158.025   78.269\n",
              "Oct     5.249    1.308   50.404   73.997  ...  180.300   38.246  135.518   21.486\n",
              "Nov    16.232   41.214    8.393   23.326  ...    0.263   15.274   23.633    0.614\n",
              "Dec    22.075    4.132   37.685    2.020  ...    0.033    8.187    0.003    0.000\n",
              "\n",
              "[12 rows x 38 columns]"
            ]
          },
          "metadata": {
            "tags": []
          },
          "execution_count": 9
        }
      ]
    },
    {
      "cell_type": "code",
      "metadata": {
        "colab": {
          "base_uri": "https://localhost:8080/"
        },
        "id": "hWvWer7pc1K-",
        "outputId": "22f56f49-0574-41c8-abb0-06d32106bb50"
      },
      "source": [
        "dates = pd.date_range(start=\"1965-01\", freq=\"MS\", periods=len(df.columns)*12)\n",
        "dates"
      ],
      "execution_count": null,
      "outputs": [
        {
          "output_type": "execute_result",
          "data": {
            "text/plain": [
              "DatetimeIndex(['1965-01-01', '1965-02-01', '1965-03-01', '1965-04-01',\n",
              "               '1965-05-01', '1965-06-01', '1965-07-01', '1965-08-01',\n",
              "               '1965-09-01', '1965-10-01',\n",
              "               ...\n",
              "               '2002-03-01', '2002-04-01', '2002-05-01', '2002-06-01',\n",
              "               '2002-07-01', '2002-08-01', '2002-09-01', '2002-10-01',\n",
              "               '2002-11-01', '2002-12-01'],\n",
              "              dtype='datetime64[ns]', length=456, freq='MS')"
            ]
          },
          "metadata": {
            "tags": []
          },
          "execution_count": 10
        }
      ]
    },
    {
      "cell_type": "code",
      "metadata": {
        "colab": {
          "base_uri": "https://localhost:8080/",
          "height": 475
        },
        "id": "CIbEzL0jdxCE",
        "outputId": "aef10348-c054-4f91-971f-f86900a2a664"
      },
      "source": [
        "plt.figure(figsize=(13,7))\n",
        "plt.plot(df)\n",
        "plt.xlabel('Month')\n",
        "plt.ylabel('Precipitation(mm)')\n",
        "plt.title('Month vs Precipitation In Pune')"
      ],
      "execution_count": null,
      "outputs": [
        {
          "output_type": "execute_result",
          "data": {
            "text/plain": [
              "Text(0.5, 1.0, 'Month vs Precipitation In Pune')"
            ]
          },
          "metadata": {
            "tags": []
          },
          "execution_count": 11
        },
        {
          "output_type": "display_data",
          "data": {
            "image/png": "[encoded data removed]",
            "text/plain": [
              "<Figure size 936x504 with 1 Axes>"
            ]
          },
          "metadata": {
            "tags": [],
            "needs_background": "light"
          }
        }
      ]
    },
    {
      "cell_type": "code",
      "metadata": {
        "colab": {
          "base_uri": "https://localhost:8080/",
          "height": 367
        },
        "id": "S1Vv_bqOeADY",
        "outputId": "bf6613af-a436-468e-b86b-bd93d706e71a"
      },
      "source": [
        "plt.figure(figsize=(10,5))\n",
        "plt.boxplot(df)\n",
        "plt.xlabel('Month')\n",
        "plt.ylabel('Precipitation(mm)')\n",
        "plt.title('Month vs Precipitation In Pune')"
      ],
      "execution_count": null,
      "outputs": [
        {
          "output_type": "execute_result",
          "data": {
            "text/plain": [
              "Text(0.5, 1.0, 'Month vs Precipitation In Pune')"
            ]
          },
          "metadata": {
            "tags": []
          },
          "execution_count": 12
        },
        {
          "output_type": "display_data",
          "data": {
            "image/png": "[encoded data removed]",
            "text/plain": [
              "<Figure size 720x360 with 1 Axes>"
            ]
          },
          "metadata": {
            "tags": [],
            "needs_background": "light"
          }
        }
      ]
    },
    {
      "cell_type": "code",
      "metadata": {
        "colab": {
          "base_uri": "https://localhost:8080/"
        },
        "id": "CEGkQM-DeQsU",
        "outputId": "3fcbae64-aafc-4443-a013-b4c578642328"
      },
      "source": [
        "np_df = df.transpose().values\n",
        "shape = np_df.shape\n",
        "rain_data_by_month = np_df.reshape((shape[0] * shape[1]), 1)\n",
        "rain_data_by_month[:10]"
      ],
      "execution_count": null,
      "outputs": [
        {
          "output_type": "execute_result",
          "data": {
            "text/plain": [
              "array([[2.90000e-02],\n",
              "       [6.90000e-02],\n",
              "       [0.00000e+00],\n",
              "       [2.16670e+01],\n",
              "       [1.78590e+01],\n",
              "       [1.02111e+02],\n",
              "       [6.06071e+02],\n",
              "       [4.02521e+02],\n",
              "       [6.95110e+01],\n",
              "       [5.24900e+00]])"
            ]
          },
          "metadata": {
            "tags": []
          },
          "execution_count": 13
        }
      ]
    },
    {
      "cell_type": "code",
      "metadata": {
        "colab": {
          "base_uri": "https://localhost:8080/"
        },
        "id": "6f1BvQODf0Ys",
        "outputId": "ec26dafa-eabd-451f-d85e-87a6a090ba51"
      },
      "source": [
        "rain_data_by_month_df = pd.DataFrame({\"Precipitation\": rain_data_by_month[:,0]})\n",
        "rain_data_by_month_df.set_index(dates, inplace=True)\n",
        "rain_data_by_month_df.shape"
      ],
      "execution_count": null,
      "outputs": [
        {
          "output_type": "execute_result",
          "data": {
            "text/plain": [
              "(456, 1)"
            ]
          },
          "metadata": {
            "tags": []
          },
          "execution_count": 14
        }
      ]
    },
    {
      "cell_type": "markdown",
      "metadata": {
        "id": "ztvKVytKhsTU"
      },
      "source": [
        "We have 38 years (by month) of rain data. We can use the last 8 years as the test data and the first 30 as training data"
      ]
    },
    {
      "cell_type": "code",
      "metadata": {
        "id": "aX0C7KpOiP38"
      },
      "source": [
        "train_years = 30"
      ],
      "execution_count": null,
      "outputs": []
    },
    {
      "cell_type": "code",
      "metadata": {
        "colab": {
          "base_uri": "https://localhost:8080/"
        },
        "id": "UMFm_oKDhb3H",
        "outputId": "f208850e-00c8-49ff-9bf2-c9b3c4fcaa1b"
      },
      "source": [
        "train_data = rain_data_by_month_df[:train_years*12]\n",
        "test_data = rain_data_by_month_df[train_years*12:]\n",
        "print(f\"Test data shape: {test_data.shape}\\nTraining data shape: {train_data.shape}\")"
      ],
      "execution_count": null,
      "outputs": [
        {
          "output_type": "stream",
          "text": [
            "Test data shape: (96, 1)\n",
            "Training data shape: (360, 1)\n"
          ],
          "name": "stdout"
        }
      ]
    },
    {
      "cell_type": "code",
      "metadata": {
        "colab": {
          "base_uri": "https://localhost:8080/"
        },
        "id": "wov-rU0xiC45",
        "outputId": "cb132713-979a-42e7-d46e-bf1c154677fe"
      },
      "source": [
        "# Normalize the data\n",
        "scaler = MinMaxScaler()\n",
        "scaler.fit(train_data)"
      ],
      "execution_count": null,
      "outputs": [
        {
          "output_type": "execute_result",
          "data": {
            "text/plain": [
              "MinMaxScaler(copy=True, feature_range=(0, 1))"
            ]
          },
          "metadata": {
            "tags": []
          },
          "execution_count": 106
        }
      ]
    },
    {
      "cell_type": "markdown",
      "metadata": {
        "id": "XAMm3ko3vesm"
      },
      "source": [
        "## Neural Net Utils"
      ]
    },
    {
      "cell_type": "code",
      "metadata": {
        "id": "ZOGm-54yC-Vu"
      },
      "source": [
        "def print_loss(model, epoch_range):\n",
        "  history = model.history.history[\"loss\"]\n",
        "  for i, loss in enumerate(history):\n",
        "    if (i) % epoch_range == 0:\n",
        "      print(f\"Loss for epoch {i}:\\t {loss}\")\n",
        "  print(f\"Loss for epoch {epochs}:\\t {history[-1]}\")"
      ],
      "execution_count": null,
      "outputs": []
    },
    {
      "cell_type": "code",
      "metadata": {
        "id": "PyuSYwFEvtBP"
      },
      "source": [
        "def mean_absolute_percentage_error(y_true, y_pred): \n",
        "    y_true, y_pred = np.array(y_true), np.array(y_pred)\n",
        "    return np.mean(np.abs((y_true - y_pred) / y_true)) * 100\n",
        "\n",
        "def root_mean_squared_error(y_true, y_pred):\n",
        "    mse = mean_squared_error(y_true, y_pred)\n",
        "    rmse = np.sqrt(mse)\n",
        "    return rmse"
      ],
      "execution_count": null,
      "outputs": []
    },
    {
      "cell_type": "code",
      "metadata": {
        "id": "sI32164-vo_q"
      },
      "source": [
        "def calculate_performance(y_true, y_pred):\n",
        "    mse = mean_squared_error(y_true, y_pred)\n",
        "    mae = mean_absolute_error(y_true, y_pred)\n",
        "    mape = mean_absolute_percentage_error(y_true, y_pred)\n",
        "    rmse = root_mean_squared_error(y_true, y_pred)\n",
        "    return round(mse, 3), round(mae, 3), round(mape, 3), round(rmse, 3)"
      ],
      "execution_count": null,
      "outputs": []
    },
    {
      "cell_type": "code",
      "metadata": {
        "id": "NWl-f1khvkLA"
      },
      "source": [
        "def plot_keras_model(model, show_shapes=True, show_layer_names=True):\n",
        "    return SVG(model_to_dot(model, show_shapes=show_shapes, show_layer_names=show_layer_names).create(prog='dot',format='svg'))"
      ],
      "execution_count": null,
      "outputs": []
    },
    {
      "cell_type": "code",
      "metadata": {
        "id": "Fr7vvGg1vhsa"
      },
      "source": [
        "def get_combinations(parameters):\n",
        "    return list(itertools.product(*parameters))"
      ],
      "execution_count": null,
      "outputs": []
    },
    {
      "cell_type": "code",
      "metadata": {
        "id": "453rdxFW0Rs9"
      },
      "source": [
        "def reshape_arrays(X_train, y_train):\n",
        "    X_train = np.array(X_train)\n",
        "    y_train = np.reshape(y_train, (len(y_train), 1))\n",
        "    return X_train, y_train"
      ],
      "execution_count": null,
      "outputs": []
    },
    {
      "cell_type": "markdown",
      "metadata": {
        "id": "4k5OTuaxvb8w"
      },
      "source": [
        "## Create the Neural Net Class"
      ]
    },
    {
      "cell_type": "code",
      "metadata": {
        "id": "zJfWjOIviwtb"
      },
      "source": [
        "class NN:\n",
        "\n",
        "  def run_NN(self, data, look_back, hidden_nodes, output_nodes, epochs, batch_size, future_steps, scaler):\n",
        "    pass\n",
        "\n",
        "  def preprocess(self, data, look_back):\n",
        "    pass\n",
        "\n",
        "  def predict(self, input_sequence, future_steps):\n",
        "    pass\n",
        "\n",
        "  def train(self, X_train, Y_train, num_epochs, batch_size, verbose=False):\n",
        "      self.model.fit(X_train, Y_train, epochs=num_epochs, batch_size=batch_size, shuffle=True, callbacks=[self.history], verbose=0)\n",
        "\n",
        "  def get_accuracy(self, train_data, train_labels, parameters, scaler):\n",
        "    pass"
      ],
      "execution_count": null,
      "outputs": []
    },
    {
      "cell_type": "markdown",
      "metadata": {
        "id": "6RyndF1wKgak"
      },
      "source": [
        "## Regular NN"
      ]
    },
    {
      "cell_type": "code",
      "metadata": {
        "id": "QgcoC9A-kHzZ"
      },
      "source": [
        "# Regular Feed Forward NN With 1 hidden layer\n",
        "class NN_1(NN):\n",
        "\n",
        "  def __init__(self, input_nodes, hidden_nodes):\n",
        "    model = Sequential(name=\"NN_1\")\n",
        "    model.add(Dense(hidden_nodes, input_dim=int(input_nodes), activation='relu'))\n",
        "    model.add(Dense(1, activation='relu'))\n",
        "    model.compile(loss=\"mean_squared_error\", optimizer=\"adam\")\n",
        "    self.history = History()\n",
        "    self.model = model\n",
        "\n",
        "  def preprocess(self, data, look_back):\n",
        "    # pdb.set_trace()\n",
        "    data = np.array(data)[:,0]\n",
        "    X_train = []\n",
        "    Y_train = []\n",
        "    for i in range(data.shape[0] - look_back):\n",
        "      x = data[i:look_back+i][::-1]\n",
        "      y = data[look_back+i]\n",
        "      X_train.append(list(x))\n",
        "      Y_train.append(y)\n",
        "    input_seq_for_test = data[i+1:look_back+i+1][::-1]\n",
        "    X_train, Y_train = reshape_arrays(X_train, Y_train)\n",
        "    return X_train, Y_train, input_seq_for_test\n",
        "\n",
        "  def predict(self, input_sequence, future_steps):\n",
        "    predictions = []\n",
        "    for i in range(future_steps):\n",
        "      prediction = self.model.predict(input_sequence)\n",
        "      predictions.append(prediction[0][0])\n",
        "      input_sequence[0] = np.append(prediction, input_sequence[0][:-1])\n",
        "    return predictions\n",
        "\n",
        "  def run_NN(self, data, look_back, hidden_nodes, output_nodes, num_epochs, batch_size, future_steps, scaler):\n",
        "    # pdb.set_trace()\n",
        "    data = scaler.transform(data)\n",
        "    X_train, Y_train, input_seq_for_test = self.preprocess(data, look_back)\n",
        "    self.train(X_train, Y_train, num_epochs, batch_size)\n",
        "    input_seq_for_test = np.reshape(input_seq_for_test, (1, len(input_seq_for_test)))\n",
        "    predictions = self.predict(input_sequence=input_seq_for_test, future_steps=future_steps)\n",
        "    predictions = list(scaler.inverse_transform([predictions])[0])\n",
        "    return predictions\n",
        "\n",
        "  def get_accuracy(self, train_data, test_data, params, scaler):\n",
        "    look_back, hidden_nodes, output_nodes, epochs, batch_size, future_steps = params\n",
        "    predictions = self.run_NN(train_data, look_back, hidden_nodes, output_nodes, epochs, batch_size, future_steps, scaler)\n",
        "    y_true = test_data.Precipitation\n",
        "    mse, mae, mape, rmse = calculate_performance(y_true, predictions)\n",
        "    info = list(param) + [mse, mae, rmse] + predictions\n",
        "    return info\n",
        "    "
      ],
      "execution_count": null,
      "outputs": []
    },
    {
      "cell_type": "code",
      "metadata": {
        "id": "uYAwTHa7Ccvp"
      },
      "source": [
        "input_nodes = 5\n",
        "look_back = input_nodes\n",
        "hidden_nodes = 3\n",
        "future_steps = 96\n",
        "epochs = 500\n",
        "batch_size = 20\n",
        "# input_nodes, hidden_nodes, output_nodes, epochs, batch_size, future_steps\n",
        "parameters_NN1 = [[1,2,3,6,8,10,12], [3,4,5,6], [1], [500], [20], [future_steps]]"
      ],
      "execution_count": null,
      "outputs": []
    },
    {
      "cell_type": "code",
      "metadata": {
        "colab": {
          "base_uri": "https://localhost:8080/"
        },
        "id": "ixizOsZWxVRW",
        "outputId": "e6f9bde6-95d7-4b53-8d08-0b2e4af7e3c3"
      },
      "source": [
        "nn_1 = NN_1(input_nodes, hidden_nodes)\n",
        "nn_1.model.summary()\n",
        "X_train, Y_train, input_seq_for_test = nn_1.preprocess(scaler.transform(train_data), look_back)"
      ],
      "execution_count": null,
      "outputs": [
        {
          "output_type": "stream",
          "text": [
            "Model: \"NN_1\"\n",
            "_________________________________________________________________\n",
            "Layer (type)                 Output Shape              Param #   \n",
            "=================================================================\n",
            "dense_16 (Dense)             (None, 3)                 18        \n",
            "_________________________________________________________________\n",
            "dense_17 (Dense)             (None, 1)                 4         \n",
            "=================================================================\n",
            "Total params: 22\n",
            "Trainable params: 22\n",
            "Non-trainable params: 0\n",
            "_________________________________________________________________\n"
          ],
          "name": "stdout"
        }
      ]
    },
    {
      "cell_type": "code",
      "metadata": {
        "id": "ncLFNjUZyLi4"
      },
      "source": [
        "nn_1.train(X_train, Y_train, epochs, batch_size)"
      ],
      "execution_count": null,
      "outputs": []
    },
    {
      "cell_type": "code",
      "metadata": {
        "colab": {
          "base_uri": "https://localhost:8080/"
        },
        "id": "aZWZ5lRPJIdM",
        "outputId": "bae63099-ba2d-49d5-daee-1f149a6fdc54"
      },
      "source": [
        "print_loss(nn_1.model, 100)"
      ],
      "execution_count": null,
      "outputs": [
        {
          "output_type": "stream",
          "text": [
            "Loss for epoch 0:\t 0.08816099911928177\n",
            "Loss for epoch 100:\t 0.02543681487441063\n",
            "Loss for epoch 200:\t 0.02165602520108223\n",
            "Loss for epoch 300:\t 0.020190531387925148\n",
            "Loss for epoch 400:\t 0.019431786611676216\n",
            "Loss for epoch 500:\t 0.01895442232489586\n"
          ],
          "name": "stdout"
        }
      ]
    },
    {
      "cell_type": "code",
      "metadata": {
        "id": "IPvMp2vlL6XT"
      },
      "source": [
        "input_seq_for_test = np.reshape(input_seq_for_test, (1, len(input_seq_for_test)))"
      ],
      "execution_count": null,
      "outputs": []
    },
    {
      "cell_type": "code",
      "metadata": {
        "colab": {
          "base_uri": "https://localhost:8080/"
        },
        "id": "f3MKWeSTMh_9",
        "outputId": "af9d91d6-ad1f-4ffc-8ec1-f08562d6f4b3"
      },
      "source": [
        "input_seq_for_test"
      ],
      "execution_count": null,
      "outputs": [
        {
          "output_type": "execute_result",
          "data": {
            "text/plain": [
              "array([[0.        , 0.01807422, 0.14916296, 0.14808732, 0.2960208 ]])"
            ]
          },
          "metadata": {
            "tags": []
          },
          "execution_count": 96
        }
      ]
    },
    {
      "cell_type": "code",
      "metadata": {
        "colab": {
          "base_uri": "https://localhost:8080/"
        },
        "id": "_04-qQEyKGZ0",
        "outputId": "76404248-2d57-4d47-cfe4-373a6b4f7497"
      },
      "source": [
        "nn_1.model.predict(input_seq_for_test)"
      ],
      "execution_count": null,
      "outputs": [
        {
          "output_type": "execute_result",
          "data": {
            "text/plain": [
              "array([[0.]], dtype=float32)"
            ]
          },
          "metadata": {
            "tags": []
          },
          "execution_count": 97
        }
      ]
    },
    {
      "cell_type": "code",
      "metadata": {
        "colab": {
          "base_uri": "https://localhost:8080/"
        },
        "id": "SOyHxZTMK5A1",
        "outputId": "1ef86b82-7020-4330-f22d-d2b60558de4f"
      },
      "source": [
        "params = get_combinations(parameters_NN1)\n",
        "nn_info = []\n",
        "print('NN_1 - Number of combinations: ' + str(len(params)))\n",
        "for param in params:\n",
        "  print(f\"Using parameters {param}\")  \n",
        "  input_nodes, hidden_nodes, _, _, _, _ = param\n",
        "  nn_temp = NN_1(input_nodes, hidden_nodes)\n",
        "  info = nn_temp.get_accuracy(train_data, test_data, param, scaler)\n",
        "  print(info)\n",
        "  nn_info.append(info)\n",
        "  \n",
        "nn_info_df = pd.DataFrame(nn_info)\n",
        "indexes = [str(i) for i in list(range(1, future_steps+1))]\n",
        "nn_info_df.columns = ['look_back', 'hidden_nodes', 'output_nodes', 'epochs', 'batch_size', 'future_steps', 'MSE', 'MAE', 'RMSE'] + indexes"
      ],
      "execution_count": null,
      "outputs": [
        {
          "output_type": "stream",
          "text": [
            "NN_1 - Number of combinations: 28\n",
            "Using parameters (1, 3, 1, 500, 20, 96)\n",
            "[1, 3, 1, 500, 20, 96, 39065.972, 111.343, 197.651, 0.0, 0.0, 0.0, 0.0, 0.0, 0.0, 0.0, 0.0, 0.0, 0.0, 0.0, 0.0, 0.0, 0.0, 0.0, 0.0, 0.0, 0.0, 0.0, 0.0, 0.0, 0.0, 0.0, 0.0, 0.0, 0.0, 0.0, 0.0, 0.0, 0.0, 0.0, 0.0, 0.0, 0.0, 0.0, 0.0, 0.0, 0.0, 0.0, 0.0, 0.0, 0.0, 0.0, 0.0, 0.0, 0.0, 0.0, 0.0, 0.0, 0.0, 0.0, 0.0, 0.0, 0.0, 0.0, 0.0, 0.0, 0.0, 0.0, 0.0, 0.0, 0.0, 0.0, 0.0, 0.0, 0.0, 0.0, 0.0, 0.0, 0.0, 0.0, 0.0, 0.0, 0.0, 0.0, 0.0, 0.0, 0.0, 0.0, 0.0, 0.0, 0.0, 0.0, 0.0, 0.0, 0.0, 0.0, 0.0, 0.0, 0.0, 0.0, 0.0, 0.0, 0.0, 0.0, 0.0]\n",
            "Using parameters (1, 4, 1, 500, 20, 96)\n",
            "[1, 4, 1, 500, 20, 96, 39065.972, 111.343, 197.651, 0.0, 0.0, 0.0, 0.0, 0.0, 0.0, 0.0, 0.0, 0.0, 0.0, 0.0, 0.0, 0.0, 0.0, 0.0, 0.0, 0.0, 0.0, 0.0, 0.0, 0.0, 0.0, 0.0, 0.0, 0.0, 0.0, 0.0, 0.0, 0.0, 0.0, 0.0, 0.0, 0.0, 0.0, 0.0, 0.0, 0.0, 0.0, 0.0, 0.0, 0.0, 0.0, 0.0, 0.0, 0.0, 0.0, 0.0, 0.0, 0.0, 0.0, 0.0, 0.0, 0.0, 0.0, 0.0, 0.0, 0.0, 0.0, 0.0, 0.0, 0.0, 0.0, 0.0, 0.0, 0.0, 0.0, 0.0, 0.0, 0.0, 0.0, 0.0, 0.0, 0.0, 0.0, 0.0, 0.0, 0.0, 0.0, 0.0, 0.0, 0.0, 0.0, 0.0, 0.0, 0.0, 0.0, 0.0, 0.0, 0.0, 0.0, 0.0, 0.0, 0.0, 0.0, 0.0, 0.0]\n",
            "Using parameters (1, 5, 1, 500, 20, 96)\n",
            "[1, 5, 1, 500, 20, 96, 26579.899, 132.113, 163.033, 59.06510905140639, 90.0760330092162, 106.35769313219191, 114.90604574346544, 119.39417233210804, 121.75057187443973, 122.98774672293665, 123.63730942922832, 123.97835135257246, 124.15740359267593, 124.25142200034858, 124.30077323770524, 124.32669251686336, 124.34029142117502, 124.34742794018986, 124.35119379061462, 124.35315807679297, 124.35419252336027, 124.35472718113662, 124.35501775601507, 124.35516885495187, 124.3552385929227, 124.35528508490326, 124.35530833089354, 124.35533157688381, 124.35533157688381, 124.35533157688381, 124.35533157688381, 124.35533157688381, 124.35533157688381, 124.35533157688381, 124.35533157688381, 124.35533157688381, 124.35533157688381, 124.35533157688381, 124.35533157688381, 124.35533157688381, 124.35533157688381, 124.35533157688381, 124.35533157688381, 124.35533157688381, 124.35533157688381, 124.35533157688381, 124.35533157688381, 124.35533157688381, 124.35533157688381, 124.35533157688381, 124.35533157688381, 124.35533157688381, 124.35533157688381, 124.35533157688381, 124.35533157688381, 124.35533157688381, 124.35533157688381, 124.35533157688381, 124.35533157688381, 124.35533157688381, 124.35533157688381, 124.35533157688381, 124.35533157688381, 124.35533157688381, 124.35533157688381, 124.35533157688381, 124.35533157688381, 124.35533157688381, 124.35533157688381, 124.35533157688381, 124.35533157688381, 124.35533157688381, 124.35533157688381, 124.35533157688381, 124.35533157688381, 124.35533157688381, 124.35533157688381, 124.35533157688381, 124.35533157688381, 124.35533157688381, 124.35533157688381, 124.35533157688381, 124.35533157688381, 124.35533157688381, 124.35533157688381, 124.35533157688381, 124.35533157688381, 124.35533157688381, 124.35533157688381, 124.35533157688381, 124.35533157688381, 124.35533157688381, 124.35533157688381, 124.35533157688381, 124.35533157688381, 124.35533157688381, 124.35533157688381, 124.35533157688381, 124.35533157688381]\n",
            "Using parameters (1, 6, 1, 500, 20, 96)\n",
            "[1, 6, 1, 500, 20, 96, 47193.359, 196.962, 217.24, 41.41062500942499, 77.78990531793238, 109.74914363756777, 137.8253717414439, 162.490367002219, 184.158593803525, 203.1941540910602, 219.91690106803182, 234.60785551089052, 247.51388983637096, 258.8518193957806, 263.29429085952046, 263.8724418836832, 263.94766590821746, 263.95747571611406, 263.95875424557926, 263.9589169675112, 263.9589402135015, 263.9589402135015, 263.9589402135015, 263.9589402135015, 263.9589402135015, 263.9589402135015, 263.9589402135015, 263.9589402135015, 263.9589402135015, 263.9589402135015, 263.9589402135015, 263.9589402135015, 263.9589402135015, 263.9589402135015, 263.9589402135015, 263.9589402135015, 263.9589402135015, 263.9589402135015, 263.9589402135015, 263.9589402135015, 263.9589402135015, 263.9589402135015, 263.9589402135015, 263.9589402135015, 263.9589402135015, 263.9589402135015, 263.9589402135015, 263.9589402135015, 263.9589402135015, 263.9589402135015, 263.9589402135015, 263.9589402135015, 263.9589402135015, 263.9589402135015, 263.9589402135015, 263.9589402135015, 263.9589402135015, 263.9589402135015, 263.9589402135015, 263.9589402135015, 263.9589402135015, 263.9589402135015, 263.9589402135015, 263.9589402135015, 263.9589402135015, 263.9589402135015, 263.9589402135015, 263.9589402135015, 263.9589402135015, 263.9589402135015, 263.9589402135015, 263.9589402135015, 263.9589402135015, 263.9589402135015, 263.9589402135015, 263.9589402135015, 263.9589402135015, 263.9589402135015, 263.9589402135015, 263.9589402135015, 263.9589402135015, 263.9589402135015, 263.9589402135015, 263.9589402135015, 263.9589402135015, 263.9589402135015, 263.9589402135015, 263.9589402135015, 263.9589402135015, 263.9589402135015, 263.9589402135015, 263.9589402135015, 263.9589402135015, 263.9589402135015, 263.9589402135015, 263.9589402135015, 263.9589402135015, 263.9589402135015, 263.9589402135015]\n",
            "Using parameters (2, 3, 1, 500, 20, 96)\n",
            "[2, 3, 1, 500, 20, 96, 27317.007, 121.516, 165.279, 59.92965067577363, 113.40598199093343, 122.93832574760916, 102.10118959066273, 81.06924041220547, 75.88101433441044, 82.97021032454074, 91.15005587495864, 93.70234937734904, 91.3558816843629, 88.20866517582537, 87.02596730554104, 87.77454630741478, 88.97262721176446, 89.49903847306967, 89.27261090478302, 88.8213946105242, 88.59390934967996, 88.65673163840175, 88.82480014809967, 88.9208700144142, 88.906172737062, 88.84429191094638, 88.8044947755933, 88.80648811925948, 88.82897861485185, 88.84520431606472, 88.84583776929976, 88.83778303366901, 88.83125091040135, 88.83047798122466, 88.83331980353594, 88.83591173145176, 88.83640570874513, 88.83542356565596, 88.8344007420838, 88.83414503619076, 88.83448210304977, 88.83487728488447, 88.83500513783099, 88.83489471937717, 88.8347378089428, 88.83466807097197, 88.8347029399574, 88.83477267792821, 88.83480173541606, 88.83478430092336, 88.83475524343551, 88.83474943193795, 88.83476105493308, 88.83476686643066, 88.83476105493308, 88.83476105493308, 88.83476105493308, 88.83476105493308, 88.83476105493308, 88.83476105493308, 88.83476105493308, 88.83476105493308, 88.83476105493308, 88.83476105493308, 88.83476105493308, 88.83476105493308, 88.83476105493308, 88.83476105493308, 88.83476105493308, 88.83476105493308, 88.83476105493308, 88.83476105493308, 88.83476105493308, 88.83476105493308, 88.83476105493308, 88.83476105493308, 88.83476105493308, 88.83476105493308, 88.83476105493308, 88.83476105493308, 88.83476105493308, 88.83476105493308, 88.83476105493308, 88.83476105493308, 88.83476105493308, 88.83476105493308, 88.83476105493308, 88.83476105493308, 88.83476105493308, 88.83476105493308, 88.83476105493308, 88.83476105493308, 88.83476105493308, 88.83476105493308, 88.83476105493308, 88.83476105493308, 88.83476105493308, 88.83476105493308, 88.83476105493308]\n",
            "Using parameters (2, 4, 1, 500, 20, 96)\n",
            "[2, 4, 1, 500, 20, 96, 39065.972, 111.343, 197.651, 0.0, 0.0, 0.0, 0.0, 0.0, 0.0, 0.0, 0.0, 0.0, 0.0, 0.0, 0.0, 0.0, 0.0, 0.0, 0.0, 0.0, 0.0, 0.0, 0.0, 0.0, 0.0, 0.0, 0.0, 0.0, 0.0, 0.0, 0.0, 0.0, 0.0, 0.0, 0.0, 0.0, 0.0, 0.0, 0.0, 0.0, 0.0, 0.0, 0.0, 0.0, 0.0, 0.0, 0.0, 0.0, 0.0, 0.0, 0.0, 0.0, 0.0, 0.0, 0.0, 0.0, 0.0, 0.0, 0.0, 0.0, 0.0, 0.0, 0.0, 0.0, 0.0, 0.0, 0.0, 0.0, 0.0, 0.0, 0.0, 0.0, 0.0, 0.0, 0.0, 0.0, 0.0, 0.0, 0.0, 0.0, 0.0, 0.0, 0.0, 0.0, 0.0, 0.0, 0.0, 0.0, 0.0, 0.0, 0.0, 0.0, 0.0, 0.0, 0.0, 0.0, 0.0, 0.0, 0.0]\n",
            "Using parameters (2, 5, 1, 500, 20, 96)\n",
            "[2, 5, 1, 500, 20, 96, 29722.691, 148.959, 172.403, 31.817019351124767, 117.41296307283642, 211.3368757950068, 233.03965776085857, 188.88027285647394, 137.5926910017729, 124.03023640286924, 146.71369696050886, 174.65995673274995, 182.96438916805388, 171.36823152565958, 156.1723276820183, 151.16725676161053, 157.06376491713525, 165.30955934196712, 168.28809132206442, 165.30786238467695, 160.84254011249544, 159.08842093223336, 160.58434689849616, 162.9975131490827, 164.0215222667456, 163.27662775433066, 161.9751544967294, 161.38182384091618, 161.74927320921424, 162.44976788020136, 162.79132121533158, 162.61209463030102, 162.23583503168823, 162.04035949945452, 162.12657887738945, 162.32823784303667, 162.43953964447977, 162.39878942352536, 162.29092802864315, 162.22783841103316, 162.246667663157, 162.30422473508122, 162.33983759218455, 162.33142254370452, 162.30076108253004, 162.28072303891184, 162.28432616740469, 162.30062160658838, 162.31187266588213, 162.310431414485, 162.3017839061022, 162.2955074887276, 162.29599565452338, 162.30057511460782, 162.30408525913955, 162.30396902918818, 162.30155144619943, 162.29959878301622, 162.29957553702596, 162.30085406649115, 162.30192338204387, 162.30199312001469, 162.30134223228694, 162.30073783653975, 162.30066809856893, 162.30101678842308, 162.30134223228694, 162.3013887242675, 162.3012027563453, 162.30101678842308, 162.3009935424328, 162.3010865263939, 162.3012027563453, 162.30122600233557, 162.30115626436475, 162.3010865263939, 162.3010865263939, 162.30113301837446, 162.30115626436475, 162.30115626436475, 162.30113301837446, 162.3011097723842, 162.3011097723842, 162.30113301837446, 162.30113301837446, 162.30113301837446, 162.30113301837446, 162.30113301837446, 162.30113301837446, 162.30113301837446, 162.30113301837446, 162.30113301837446, 162.30113301837446, 162.30113301837446, 162.30113301837446, 162.30113301837446, 162.30113301837446, 162.30113301837446, 162.30113301837446]\n",
            "Using parameters (2, 6, 1, 500, 20, 96)\n",
            "[2, 6, 1, 500, 20, 96, 29402.149, 147.317, 171.471, 32.5826289466247, 124.35268153399231, 225.49791464352612, 234.35352113127712, 170.4334870106578, 113.9459166070819, 114.30862379336358, 154.1823895533979, 185.2939977065921, 181.82230204278233, 157.2872983596325, 140.420461111933, 144.34753410226108, 159.2575355114937, 168.23391654172542, 164.84554613006117, 155.88920314344765, 151.2185839081407, 153.8214723083675, 159.1423051376939, 161.50362120696903, 159.6320632838309, 156.5049545568824, 155.35673049017788, 156.6450930092633, 158.46327813872696, 158.99057855916024, 158.13111618366838, 157.08549991804364, 156.8653255211413, 157.4249378680587, 158.01945406937602, 158.09492217680813, 157.73763130626085, 157.403679409951, 157.39138228109482, 157.61576420223716, 157.80088364580277, 157.78924902766946, 157.65035423576833, 157.5492690470517, 157.56707547560336, 157.65193496310712, 157.70621435040238, 157.68944236841799, 157.63819658285382, 157.60963888379933, 157.6230866891742, 157.65367841237784, 157.6683117632568, 157.65839734840395, 157.64033521395925, 157.633082464993, 157.6400213930905, 157.65056344968082, 157.65400385624173, 157.64931978920103, 157.64322933974864, 157.64172997337582, 157.6447984440923, 157.6482737196386, 157.6488548693955, 157.64687896022204, 157.64490305104854, 157.64475195211173, 157.64600723558667, 157.64709979712964, 157.64707655113938, 157.64629781046511, 157.64570503771307, 157.64578639867904, 157.64625131848456, 157.64657676234845, 157.64649540138245, 157.646204826504, 157.64603048157693, 157.64610021954778, 157.64627456447485, 157.64636754843593, 157.64630943346026, 157.64621644949915, 157.6461932035089, 157.64621644949915, 157.64625131848456, 157.6462629414797, 157.64625131848456, 157.6462396954894, 157.6462396954894, 157.6462396954894, 157.6462396954894, 157.6462396954894, 157.6462396954894, 157.6462396954894, 157.6462396954894, 157.6462396954894, 157.6462396954894]\n",
            "Using parameters (3, 3, 1, 500, 20, 96)\n",
            "[3, 3, 1, 500, 20, 96, 28794.454, 125.636, 169.689, 34.05840935656429, 112.7750393228531, 179.69596806621553, 198.82867334711554, 172.24553519868851, 110.2460964176953, 46.216117480315276, 34.05840935656429, 34.05840935656429, 67.89132098445297, 100.65776469343902, 131.94657703050973, 137.91132379049066, 126.22258899182083, 97.06550951255859, 69.29698277047278, 50.966008448213344, 52.09424677477778, 68.32572461624444, 93.18294678211214, 113.91103599867226, 122.9885835785866, 116.66513956564667, 99.5614605460167, 79.43639556321503, 65.56841891410947, 63.11084119910002, 72.40176372376085, 88.30046359142662, 103.56014280939104, 111.56866541147234, 109.5636987501383, 99.17297355651857, 85.60582907907666, 74.92036797474326, 71.50115594547988, 76.19464923521878, 86.32928497695924, 97.08439106816054, 103.79518301707508, 103.90303278896214, 97.91401721513273, 88.90248824760319, 80.99645721665026, 77.50058572295309, 79.55524068850279, 85.81619366808236, 93.24510656011105, 98.55044593691827, 99.6278162252605, 96.36314353935421, 90.51966529914738, 84.82256124821306, 81.70934200045467, 82.30448003201188, 86.045521173656, 91.06373770156503, 95.09612665084006, 96.49054318906369, 94.86577632169427, 91.170064861089, 87.16361843696238, 84.59458782157303, 84.44856813365222, 86.58788499578834, 89.90376278677584, 92.87329275713863, 94.24845580391587, 93.56993440523745, 91.29931256702544, 88.5444999973476, 86.52989787304402, 86.06040441893042, 87.2100464910418, 89.35063607114554, 91.47989904248716, 92.68335558208824, 92.52019778783621, 91.17362149760129, 89.32043952977658, 87.79929747556152, 87.2366980188936, 87.79521780426802, 89.14200330841543, 90.63282677981259, 91.61483620454372, 91.70793058410288, 90.9456190134734, 89.72640169246496, 88.61224462451042, 88.07346068488063, 88.29408256709577, 89.11644434210659, 90.13721645562352, 90.90113199958206, 91.10101264697315]\n",
            "Using parameters (3, 4, 1, 500, 20, 96)\n",
            "[3, 4, 1, 500, 20, 96, 39065.972, 111.343, 197.651, 0.0, 0.0, 0.0, 0.0, 0.0, 0.0, 0.0, 0.0, 0.0, 0.0, 0.0, 0.0, 0.0, 0.0, 0.0, 0.0, 0.0, 0.0, 0.0, 0.0, 0.0, 0.0, 0.0, 0.0, 0.0, 0.0, 0.0, 0.0, 0.0, 0.0, 0.0, 0.0, 0.0, 0.0, 0.0, 0.0, 0.0, 0.0, 0.0, 0.0, 0.0, 0.0, 0.0, 0.0, 0.0, 0.0, 0.0, 0.0, 0.0, 0.0, 0.0, 0.0, 0.0, 0.0, 0.0, 0.0, 0.0, 0.0, 0.0, 0.0, 0.0, 0.0, 0.0, 0.0, 0.0, 0.0, 0.0, 0.0, 0.0, 0.0, 0.0, 0.0, 0.0, 0.0, 0.0, 0.0, 0.0, 0.0, 0.0, 0.0, 0.0, 0.0, 0.0, 0.0, 0.0, 0.0, 0.0, 0.0, 0.0, 0.0, 0.0, 0.0, 0.0, 0.0, 0.0, 0.0]\n",
            "Using parameters (3, 5, 1, 500, 20, 96)\n",
            "[3, 5, 1, 500, 20, 96, 53193.51, 175.178, 230.637, 0.0, 0.0, 30.762813692092898, 159.4593107070923, 405.1874668164254, 316.8122092512846, 250.29864324152473, 106.31884908244015, 0.0, 0.0, 0.0, 30.762813692092898, 159.4593107070923, 405.1874668164254, 316.8122092512846, 250.29864324152473, 106.31884908244015, 0.0, 0.0, 0.0, 30.762813692092898, 159.4593107070923, 405.1874668164254, 316.8122092512846, 250.29864324152473, 106.31884908244015, 0.0, 0.0, 0.0, 30.762813692092898, 159.4593107070923, 405.1874668164254, 316.8122092512846, 250.29864324152473, 106.31884908244015, 0.0, 0.0, 0.0, 30.762813692092898, 159.4593107070923, 405.1874668164254, 316.8122092512846, 250.29864324152473, 106.31884908244015, 0.0, 0.0, 0.0, 30.762813692092898, 159.4593107070923, 405.1874668164254, 316.8122092512846, 250.29864324152473, 106.31884908244015, 0.0, 0.0, 0.0, 30.762813692092898, 159.4593107070923, 405.1874668164254, 316.8122092512846, 250.29864324152473, 106.31884908244015, 0.0, 0.0, 0.0, 30.762813692092898, 159.4593107070923, 405.1874668164254, 316.8122092512846, 250.29864324152473, 106.31884908244015, 0.0, 0.0, 0.0, 30.762813692092898, 159.4593107070923, 405.1874668164254, 316.8122092512846, 250.29864324152473, 106.31884908244015, 0.0, 0.0, 0.0, 30.762813692092898, 159.4593107070923, 405.1874668164254, 316.8122092512846, 250.29864324152473, 106.31884908244015, 0.0, 0.0, 0.0, 30.762813692092898, 159.4593107070923, 405.1874668164254, 316.8122092512846]\n",
            "Using parameters (3, 6, 1, 500, 20, 96)\n",
            "[3, 6, 1, 500, 20, 96, 49226.244, 169.72, 221.87, 0.0, 34.5079577510208, 161.19281069397928, 408.7149063649178, 247.93069044202568, 241.85572281914952, 116.22499998575451, 81.92600625282527, 0.0, 0.0, 0.0, 62.993553555160766, 242.25425207644705, 388.643249044776, 241.61131447738413, 203.78432329219584, 128.0421456347108, 98.36687235170604, 36.45387087980658, 0.0, 0.0, 0.0, 62.993553555160766, 242.25425207644705, 388.643249044776, 241.61131447738413, 203.78432329219584, 128.0421456347108, 98.36687235170604, 36.45387087980658, 0.0, 0.0, 0.0, 62.993553555160766, 242.25425207644705, 388.643249044776, 241.61131447738413, 203.78432329219584, 128.0421456347108, 98.36687235170604, 36.45387087980658, 0.0, 0.0, 0.0, 62.993553555160766, 242.25425207644705, 388.643249044776, 241.61131447738413, 203.78432329219584, 128.0421456347108, 98.36687235170604, 36.45387087980658, 0.0, 0.0, 0.0, 62.993553555160766, 242.25425207644705, 388.643249044776, 241.61131447738413, 203.78432329219584, 128.0421456347108, 98.36687235170604, 36.45387087980658, 0.0, 0.0, 0.0, 62.993553555160766, 242.25425207644705, 388.643249044776, 241.61131447738413, 203.78432329219584, 128.0421456347108, 98.36687235170604, 36.45387087980658, 0.0, 0.0, 0.0, 62.993553555160766, 242.25425207644705, 388.643249044776, 241.61131447738413, 203.78432329219584, 128.0421456347108, 98.36687235170604, 36.45387087980658, 0.0, 0.0, 0.0, 62.993553555160766, 242.25425207644705, 388.643249044776, 241.61131447738413, 203.78432329219584, 128.0421456347108, 98.36687235170604, 36.45387087980658]\n",
            "Using parameters (6, 3, 1, 500, 20, 96)\n",
            "[6, 3, 1, 500, 20, 96, 39065.972, 111.343, 197.651, 0.0, 0.0, 0.0, 0.0, 0.0, 0.0, 0.0, 0.0, 0.0, 0.0, 0.0, 0.0, 0.0, 0.0, 0.0, 0.0, 0.0, 0.0, 0.0, 0.0, 0.0, 0.0, 0.0, 0.0, 0.0, 0.0, 0.0, 0.0, 0.0, 0.0, 0.0, 0.0, 0.0, 0.0, 0.0, 0.0, 0.0, 0.0, 0.0, 0.0, 0.0, 0.0, 0.0, 0.0, 0.0, 0.0, 0.0, 0.0, 0.0, 0.0, 0.0, 0.0, 0.0, 0.0, 0.0, 0.0, 0.0, 0.0, 0.0, 0.0, 0.0, 0.0, 0.0, 0.0, 0.0, 0.0, 0.0, 0.0, 0.0, 0.0, 0.0, 0.0, 0.0, 0.0, 0.0, 0.0, 0.0, 0.0, 0.0, 0.0, 0.0, 0.0, 0.0, 0.0, 0.0, 0.0, 0.0, 0.0, 0.0, 0.0, 0.0, 0.0, 0.0, 0.0, 0.0, 0.0]\n",
            "Using parameters (6, 4, 1, 500, 20, 96)\n",
            "[6, 4, 1, 500, 20, 96, 39066.07, 111.369, 197.651, 3.8462376016723, 0.0, 0.0, 0.0, 0.0, 0.0, 0.0, 0.0, 0.0, 0.0, 0.0, 0.0, 0.0, 0.0, 0.0, 0.0, 0.0, 0.0, 0.0, 0.0, 0.0, 0.0, 0.0, 0.0, 0.0, 0.0, 0.0, 0.0, 0.0, 0.0, 0.0, 0.0, 0.0, 0.0, 0.0, 0.0, 0.0, 0.0, 0.0, 0.0, 0.0, 0.0, 0.0, 0.0, 0.0, 0.0, 0.0, 0.0, 0.0, 0.0, 0.0, 0.0, 0.0, 0.0, 0.0, 0.0, 0.0, 0.0, 0.0, 0.0, 0.0, 0.0, 0.0, 0.0, 0.0, 0.0, 0.0, 0.0, 0.0, 0.0, 0.0, 0.0, 0.0, 0.0, 0.0, 0.0, 0.0, 0.0, 0.0, 0.0, 0.0, 0.0, 0.0, 0.0, 0.0, 0.0, 0.0, 0.0, 0.0, 0.0, 0.0, 0.0, 0.0, 0.0, 0.0, 0.0]\n",
            "Using parameters (6, 5, 1, 500, 20, 96)\n",
            "[6, 5, 1, 500, 20, 96, 50955.786, 156.74, 225.734, 0.0, 0.0, 0.0, 0.0, 91.86422499972583, 379.0503727294207, 397.9742360336781, 337.29927241766455, 35.40328868950904, 0.0, 4.371257372528315, 0.0, 0.0, 0.0, 3.1341638849973683, 125.1541451637447, 389.47122472643855, 392.35172836554057, 321.5622019203902, 0.0, 0.0, 0.0, 0.0, 0.0, 0.0, 146.12030818971994, 404.6470905264616, 389.8450202500821, 324.2556218297482, 0.0, 0.0, 0.0, 0.0, 0.0, 0.0, 146.12030818971994, 404.6470905264616, 389.8450202500821, 324.2556218297482, 0.0, 0.0, 0.0, 0.0, 0.0, 0.0, 146.12030818971994, 404.6470905264616, 389.8450202500821, 324.2556218297482, 0.0, 0.0, 0.0, 0.0, 0.0, 0.0, 146.12030818971994, 404.6470905264616, 389.8450202500821, 324.2556218297482, 0.0, 0.0, 0.0, 0.0, 0.0, 0.0, 146.12030818971994, 404.6470905264616, 389.8450202500821, 324.2556218297482, 0.0, 0.0, 0.0, 0.0, 0.0, 0.0, 146.12030818971994, 404.6470905264616, 389.8450202500821, 324.2556218297482, 0.0, 0.0, 0.0, 0.0, 0.0, 0.0, 146.12030818971994, 404.6470905264616, 389.8450202500821, 324.2556218297482, 0.0, 0.0, 0.0, 0.0, 0.0, 0.0, 146.12030818971994]\n",
            "Using parameters (6, 6, 1, 500, 20, 96)\n",
            "[6, 6, 1, 500, 20, 96, 39065.972, 111.343, 197.651, 0.0, 0.0, 0.0, 0.0, 0.0, 0.0, 0.0, 0.0, 0.0, 0.0, 0.0, 0.0, 0.0, 0.0, 0.0, 0.0, 0.0, 0.0, 0.0, 0.0, 0.0, 0.0, 0.0, 0.0, 0.0, 0.0, 0.0, 0.0, 0.0, 0.0, 0.0, 0.0, 0.0, 0.0, 0.0, 0.0, 0.0, 0.0, 0.0, 0.0, 0.0, 0.0, 0.0, 0.0, 0.0, 0.0, 0.0, 0.0, 0.0, 0.0, 0.0, 0.0, 0.0, 0.0, 0.0, 0.0, 0.0, 0.0, 0.0, 0.0, 0.0, 0.0, 0.0, 0.0, 0.0, 0.0, 0.0, 0.0, 0.0, 0.0, 0.0, 0.0, 0.0, 0.0, 0.0, 0.0, 0.0, 0.0, 0.0, 0.0, 0.0, 0.0, 0.0, 0.0, 0.0, 0.0, 0.0, 0.0, 0.0, 0.0, 0.0, 0.0, 0.0, 0.0, 0.0, 0.0]\n",
            "Using parameters (8, 3, 1, 500, 20, 96)\n",
            "[8, 3, 1, 500, 20, 96, 27369.366, 114.856, 165.437, 0.0, 0.0, 0.0, 0.0, 144.98171958598496, 292.4288856546879, 356.2197418073416, 327.4897434729338, 164.2624320869744, 0.0, 0.0, 0.0, 0.0, 0.0, 0.0, 0.0, 236.6505039224625, 376.48806020522125, 345.03697923302656, 307.38368208718305, 70.87984874036908, 0.0, 0.0, 0.0, 0.0, 0.0, 0.0, 76.67041329520941, 322.85149427908664, 370.09783046221736, 325.51083556669954, 227.90278207558396, 0.0, 0.0, 0.0, 0.0, 0.0, 0.0, 0.0, 188.75935883805158, 372.03891714227206, 353.61751591783764, 310.73057002919916, 117.07458281537892, 0.0, 0.0, 0.0, 0.0, 0.0, 0.0, 40.0809224023819, 280.48732746577264, 373.0335665742159, 335.0490605589152, 265.9192280815244, 0.0, 0.0, 0.0, 0.0, 0.0, 0.0, 0.0, 160.15092540979387, 369.3811565819979, 358.7431637898088, 312.7298414229155, 144.66960729753973, 0.0, 0.0, 0.0, 0.0, 0.0, 0.0, 18.22372894611955, 255.18058015143873, 374.7871975886822, 340.74683874356754, 288.6288171322346, 22.557804357200865, 0.0, 0.0, 0.0, 0.0, 0.0, 0.0, 126.42384115263822, 369.09090714740756, 365.05001016569145, 314.5774327300787, 177.00332689753176, 0.0, 0.0, 0.0, 0.0, 0.0, 0.0]\n",
            "Using parameters (8, 4, 1, 500, 20, 96)\n",
            "[8, 4, 1, 500, 20, 96, 7793.67, 53.809, 88.282, 0.0, 0.0, 0.0, 0.0, 38.28377489411832, 358.94505521535876, 372.9868421337605, 305.8505160444975, 224.70857379770283, 54.6283561012745, 0.0, 0.0, 0.0, 0.0, 0.0, 0.0, 80.1176309312582, 349.6426375485063, 353.22544904583697, 298.53179495787623, 207.20139087885622, 55.232589126527316, 0.0, 0.0, 0.0, 0.0, 0.0, 0.0, 98.1114919025302, 353.50614437842376, 350.79538296031956, 294.72642634963995, 197.3666400346756, 50.345793804645545, 0.0, 0.0, 0.0, 0.0, 0.0, 0.0, 114.95886063337328, 354.5045596607924, 348.278237395227, 291.5467468156815, 188.6654799063206, 47.139799809694296, 0.0, 0.0, 0.0, 0.0, 0.0, 0.0, 128.42328689128163, 355.6384990664721, 346.29756279373174, 288.9563763812185, 181.64646937233212, 44.40186382895708, 0.0, 0.0, 0.0, 0.0, 0.0, 0.0, 139.48038164216283, 356.5191734080911, 344.6663684100509, 286.8365512819291, 175.892180185318, 42.179849356412895, 0.0, 0.0, 0.0, 0.0, 0.0, 0.0, 148.5159818326235, 357.2462382459641, 343.3340709693432, 285.10319077098376, 171.18849352884294, 40.36019972956181, 0.0, 0.0, 0.0, 0.0, 0.0, 0.0, 155.90623083132508, 357.8398013616801, 342.2442756991983, 283.6856037919522, 167.34153784400226, 38.872502843856815, 0.0, 0.0]\n",
            "Using parameters (8, 5, 1, 500, 20, 96)\n",
            "[8, 5, 1, 500, 20, 96, 32261.712, 125.046, 179.615, 0.0, 0.0, 0.0, 0.0, 137.61893572479488, 314.93384025299554, 375.2454225490094, 335.73430586028104, 74.55538849291206, 41.303821307100364, 0.0, 0.0, 0.0, 0.0, 0.0, 0.0, 266.4469353067875, 382.9805258134604, 364.7060160015822, 305.15597234702113, 68.21008162611724, 0.0, 0.0, 0.0, 0.0, 0.0, 0.0, 93.62458572837711, 338.2402236120701, 388.0177924304009, 339.7725063071251, 87.84011162298918, 76.82533619740606, 0.0, 0.0, 0.0, 0.0, 0.0, 0.0, 233.3874875133634, 368.13061528909213, 368.88994556146866, 312.6856740413905, 69.49646823602916, 0.0, 0.0, 0.0, 0.0, 0.0, 0.0, 87.70412257987262, 334.8834561241866, 388.73653520375495, 341.2216380949617, 101.23985591295363, 86.04933351606131, 0.0, 0.0, 0.0, 0.0, 0.0, 0.0, 218.13535161924364, 363.9826705221534, 370.93859143853194, 315.7695103574396, 69.95049148361386, 0.0, 0.0, 0.0, 0.0, 0.0, 0.0, 85.32889959691465, 333.5783332461119, 389.0267149003745, 341.796976354301, 106.60869171220065, 85.53459174187482, 0.0, 0.0, 0.0, 0.0, 0.0, 0.0, 214.8877937936783, 364.0347415403724, 371.41569214296345, 316.29117362523084, 69.99890125836433, 0.0, 0.0, 0.0, 0.0, 0.0, 0.0]\n",
            "Using parameters (8, 6, 1, 500, 20, 96)\n",
            "[8, 6, 1, 500, 20, 96, 39065.972, 111.343, 197.651, 0.0, 0.0, 0.0, 0.0, 0.0, 0.0, 0.0, 0.0, 0.0, 0.0, 0.0, 0.0, 0.0, 0.0, 0.0, 0.0, 0.0, 0.0, 0.0, 0.0, 0.0, 0.0, 0.0, 0.0, 0.0, 0.0, 0.0, 0.0, 0.0, 0.0, 0.0, 0.0, 0.0, 0.0, 0.0, 0.0, 0.0, 0.0, 0.0, 0.0, 0.0, 0.0, 0.0, 0.0, 0.0, 0.0, 0.0, 0.0, 0.0, 0.0, 0.0, 0.0, 0.0, 0.0, 0.0, 0.0, 0.0, 0.0, 0.0, 0.0, 0.0, 0.0, 0.0, 0.0, 0.0, 0.0, 0.0, 0.0, 0.0, 0.0, 0.0, 0.0, 0.0, 0.0, 0.0, 0.0, 0.0, 0.0, 0.0, 0.0, 0.0, 0.0, 0.0, 0.0, 0.0, 0.0, 0.0, 0.0, 0.0, 0.0, 0.0, 0.0, 0.0, 0.0, 0.0, 0.0]\n",
            "Using parameters (10, 3, 1, 500, 20, 96)\n",
            "[10, 3, 1, 500, 20, 96, 8369.726, 56.381, 91.486, 0.0, 0.0, 0.0, 0.0, 66.31155835425855, 289.06579525744917, 413.40371558761603, 353.8138747977019, 198.58698478621247, 0.0, 21.863283905714752, 0.0, 0.0, 0.0, 0.0, 0.0, 91.8592503578067, 309.79145526802546, 419.08931287336355, 284.9752215945125, 183.33445371025803, 0.0, 22.065558890104295, 0.0, 0.0, 0.0, 0.0, 0.0, 107.61472005638481, 329.77605635458235, 408.74698583149916, 281.09683733081823, 169.65728014934066, 0.0, 22.979707457721236, 0.0, 0.0, 0.0, 0.0, 0.0, 113.07600515896084, 333.92418708944325, 400.35797286057476, 280.3733291294575, 166.21251496526602, 0.0, 23.111465730607513, 0.0, 0.0, 0.0, 0.0, 1.7214469409286979, 116.36512681514026, 341.7919784663916, 397.5832384772301, 278.1618450905085, 161.42749058881404, 0.0, 23.684595620870592, 0.0, 0.0, 0.0, 0.0, 2.4373304574787618, 117.60686950072648, 345.6575076974631, 394.41202048373225, 277.4553064620495, 159.83647689932587, 0.0, 24.041456440597777, 0.0, 0.0, 0.0, 0.0, 2.354888552963734, 117.75623661124708, 345.61919830548766, 393.43745558738715, 277.63218520206215, 160.06656571108104, 0.0, 24.01345664530993, 0.0, 0.0, 0.0, 0.0, 2.3995557232797147, 117.91680828908088, 345.77592277193077, 393.5482924690247, 277.54801147127154, 159.8697070424259, 0.0, 24.006494471222165, 0.0]\n",
            "Using parameters (10, 4, 1, 500, 20, 96)\n",
            "[10, 4, 1, 500, 20, 96, 39065.972, 111.343, 197.651, 0.0, 0.0, 0.0, 0.0, 0.0, 0.0, 0.0, 0.0, 0.0, 0.0, 0.0, 0.0, 0.0, 0.0, 0.0, 0.0, 0.0, 0.0, 0.0, 0.0, 0.0, 0.0, 0.0, 0.0, 0.0, 0.0, 0.0, 0.0, 0.0, 0.0, 0.0, 0.0, 0.0, 0.0, 0.0, 0.0, 0.0, 0.0, 0.0, 0.0, 0.0, 0.0, 0.0, 0.0, 0.0, 0.0, 0.0, 0.0, 0.0, 0.0, 0.0, 0.0, 0.0, 0.0, 0.0, 0.0, 0.0, 0.0, 0.0, 0.0, 0.0, 0.0, 0.0, 0.0, 0.0, 0.0, 0.0, 0.0, 0.0, 0.0, 0.0, 0.0, 0.0, 0.0, 0.0, 0.0, 0.0, 0.0, 0.0, 0.0, 0.0, 0.0, 0.0, 0.0, 0.0, 0.0, 0.0, 0.0, 0.0, 0.0, 0.0, 0.0, 0.0, 0.0, 0.0, 0.0]\n",
            "Using parameters (10, 5, 1, 500, 20, 96)\n",
            "[10, 5, 1, 500, 20, 96, 24217.652, 105.707, 155.62, 0.0, 0.0, 0.0, 0.0, 119.05149156644941, 293.3911069301963, 321.6515595070124, 327.40382629287245, 118.91309656333925, 45.74409311901034, 0.0, 0.0, 0.0, 0.0, 0.0, 0.0, 247.59034589838984, 347.59566538274294, 304.1088799610138, 264.8575139676333, 84.08694188591839, 35.72866281540692, 0.0, 0.0, 0.0, 0.0, 0.0, 27.282394970431927, 280.80702957004314, 348.2695898868442, 338.20584279245145, 200.38178444945814, 49.76608529913426, 4.491395556025208, 0.0, 0.0, 0.0, 0.0, 0.0, 177.42669449543956, 291.56676161330944, 311.42141761422164, 294.0601265303493, 106.8877365794778, 45.74409311901034, 0.0, 0.0, 0.0, 0.0, 0.0, 0.0, 262.0165982499719, 368.52242645519976, 299.3559350511432, 258.5550610839129, 79.24024589726329, 0.32655967140197756, 0.0, 0.0, 0.0, 0.0, 0.0, 147.8007259578109, 278.92589429891115, 306.99005773383385, 309.30228989464047, 114.40651265841724, 46.43532716862113, 0.0, 0.0, 0.0, 0.0, 0.0, 0.0, 255.57850501298907, 355.99160565876963, 301.5637694696188, 261.7729337798953, 81.71802437782289, 16.581242822662, 0.0, 0.0, 0.0, 0.0, 0.0, 92.6844365206361, 279.54416790229084, 308.14264042371514, 331.7877643530965, 131.53638990908863, 52.050794207453734, 0.0, 0.0, 0.0, 0.0, 0.0]\n",
            "Using parameters (10, 6, 1, 500, 20, 96)\n",
            "[10, 6, 1, 500, 20, 96, 9688.21, 61.434, 98.429, 0.0, 0.0, 0.0, 0.0, 104.95652944529058, 401.2704709628821, 403.16078840017326, 294.96753376078607, 119.77608070635797, 46.378996322683996, 0.0, 0.0, 0.0, 0.0, 0.0, 0.0, 190.75937410345676, 412.99374930310256, 364.82382668030266, 262.83032413959506, 109.32388149145247, 46.88642723292858, 0.0, 0.0, 0.0, 0.0, 0.0, 0.0, 200.7183863886595, 404.2158774068356, 360.2170990492702, 263.32516153460745, 108.53650493180753, 49.12408335117996, 0.0, 0.0, 0.0, 0.0, 0.0, 0.0, 200.0046879951954, 402.61976122248177, 361.0167378687859, 264.18284559184315, 108.5048555160463, 49.43666637092829, 0.0, 0.0, 0.0, 0.0, 0.0, 0.0, 199.87267401641608, 402.5535101501942, 361.1663025702239, 264.27678263854983, 108.49381367066503, 49.4482254395932, 0.0, 0.0, 0.0, 0.0, 0.0, 0.0, 199.88429701155425, 402.5587637439967, 361.1676275916696, 264.2766199166179, 108.49065221598745, 49.44802203717828, 0.0, 0.0, 0.0, 0.0, 0.0, 0.0, 199.88680757850412, 402.55778741240505, 361.16639555418493, 264.2764107027054, 108.49046624806525, 49.44833585804702, 0.0, 0.0, 0.0, 0.0, 0.0, 0.0, 199.8866448565722, 402.5574619685412, 361.16648853814604, 264.2765734246374, 108.49047787106039, 49.448411407515415, 0.0, 0.0]\n",
            "Using parameters (12, 3, 1, 500, 20, 96)\n",
            "[12, 3, 1, 500, 20, 96, 22367.176, 96.298, 149.557, 0.0, 33.54790416410566, 0.0, 0.0, 153.0911414088607, 464.40448841428764, 432.56929069876674, 217.7940307440162, 90.66465054050089, 0.0, 0.0, 0.0, 0.0, 0.0, 0.0, 54.04245253935457, 255.7394137576819, 423.1253746891022, 349.70940003257994, 197.61518616271022, 74.87803121495247, 0.0, 0.0, 0.0, 0.0, 0.0, 0.0, 112.06342144551874, 304.56006138628726, 386.79428622418646, 315.3200491354466, 89.79591301488877, 49.1442085672617, 0.0, 0.0, 0.0, 0.0, 0.0, 0.0, 188.84693810641767, 358.49526854950193, 363.74783952838186, 296.42863723361495, 95.45442872196438, 34.36342580647767, 0.0, 0.0, 0.0, 0.0, 0.0, 0.0, 228.12096894031765, 380.4510598735214, 344.028312468946, 289.4586524931193, 84.7603549782336, 27.681714591398837, 0.0, 0.0, 0.0, 0.0, 0.0, 2.7859680081456903, 251.89429450607304, 390.7969900438786, 334.5805376248956, 279.65491179996735, 83.33889754182101, 21.642499301567675, 0.0, 0.0, 0.0, 0.0, 0.0, 24.9477129945159, 266.1325100423098, 388.3916112000347, 331.84841314172746, 239.96482423210148, 75.53951911425591, 5.991037974983454, 0.0, 0.0, 0.0, 0.0, 0.0, 82.42823587274552, 288.6506683630944, 377.320847806871, 322.56689362013344, 140.69390369555356, 59.436754320949326, 0.0, 0.0, 0.0, 0.0]\n",
            "Using parameters (12, 4, 1, 500, 20, 96)\n",
            "[12, 4, 1, 500, 20, 96, 9526.553, 58.556, 97.604, 0.0, 0.0, 0.0, 0.0, 0.0, 335.57976651692394, 425.47731100130085, 419.70133330535896, 374.59174530243877, 1.8265769319534304, 59.537444327831274, 0.0, 0.0, 0.0, 0.0, 0.0, 0.0, 391.0500458940268, 489.1574232562781, 274.85810170644527, 144.61332875508072, 90.59414545199276, 61.20371691083909, 0.0, 0.0, 0.0, 0.0, 0.0, 0.0, 409.7964028165341, 480.4371549239159, 444.75432738983636, 336.3722223254443, 50.34550322976709, 27.3756753179133, 0.0, 0.0, 0.0, 0.0, 0.0, 0.0, 424.7114021136761, 472.4406272528172, 268.9136603189707, 151.88988161534073, 5.206520672142506, 37.74719932356477, 0.0, 0.0, 0.0, 0.0, 0.0, 0.0, 342.5716954722405, 436.0594436788559, 314.52810473871233, 284.56032716006047, 9.86879459694028, 68.64688540640475, 0.0, 0.0, 0.0, 0.0, 0.0, 0.0, 401.2515022348166, 496.81525684905057, 361.9030144940615, 229.95286920404436, 83.50002712342145, 43.05570015504957, 0.0, 0.0, 0.0, 0.0, 0.0, 0.0, 421.6333075572253, 475.83728486001496, 314.27067864239217, 217.79328687232734, 26.89892330333591, 40.40093832752109, 0.0, 0.0, 0.0, 0.0, 0.0, 0.0, 375.6910016906262, 457.8115071440936, 345.98388140094283, 265.00194130522016, 22.28694207850099, 49.604432682752616, 0.0]\n",
            "Using parameters (12, 5, 1, 500, 20, 96)\n",
            "[12, 5, 1, 500, 20, 96, 8527.443, 51.748, 92.344, 0.0, 0.0, 0.0, 0.0, 0.0, 431.22265048205855, 455.8237890075446, 323.9121158314348, 274.7847838531137, 68.27118952305615, 0.0, 0.0, 0.0, 0.0, 0.0, 0.0, 0.0, 295.34883773928885, 453.294950709343, 282.4931774747372, 252.50282803952697, 98.62578619140388, 0.0, 0.0, 0.0, 0.0, 0.0, 0.0, 0.0, 332.95215600603825, 441.5501465821267, 293.3863879941702, 252.28266526561978, 93.01793512013556, 0.0, 0.0, 0.0, 0.0, 0.0, 0.0, 0.0, 316.7339400020242, 440.7339798635245, 288.59708635550743, 254.29779042470457, 97.08671566718817, 0.0, 0.0, 0.0, 0.0, 0.0, 0.0, 0.0, 322.10222952049975, 439.6704758083821, 290.1875072722435, 253.02116713070873, 96.25742077557744, 0.0, 0.0, 0.0, 0.0, 0.0, 0.0, 0.0, 319.5885940999389, 439.43001928496363, 289.39874757617713, 253.6318392952681, 96.89771995474399, 0.0, 0.0, 0.0, 0.0, 0.0, 0.0, 0.0, 320.47421983748677, 439.29258899045, 289.6805819622875, 253.35625808054212, 96.75172932431103, 0.0, 0.0, 0.0, 0.0, 0.0, 0.0, 0.0, 320.0543507611156, 439.25400064659124, 289.54287271589044, 253.47362708544733, 96.85780077794196, 0.0, 0.0]\n",
            "Using parameters (12, 6, 1, 500, 20, 96)\n",
            "[12, 6, 1, 500, 20, 96, 8711.76, 54.056, 93.337, 0.0, 0.0, 0.0, 0.0, 0.0, 385.4607799919844, 372.53001193284996, 342.67007250308995, 254.5745106929541, 44.172152764543895, 31.472781104117637, 0.0, 0.0, 0.0, 0.0, 0.0, 0.0, 388.9585111649037, 465.73732051277165, 335.1827250030041, 251.55787853479387, 52.73043141366542, 55.3745523891449, 0.0, 0.0, 0.0, 0.0, 0.0, 0.0, 405.3898928997517, 466.53874927353866, 344.8726998197437, 239.5093655446172, 46.06111031140388, 54.16193692937494, 0.0, 0.0, 0.0, 0.0, 0.0, 0.0, 405.0908564808369, 462.40310163545615, 338.199496637106, 239.64774892473224, 46.95716768708826, 54.34615559081734, 0.0, 0.0, 0.0, 0.0, 0.0, 0.0, 405.2721752049923, 463.3944501367808, 342.21110367107394, 240.46273009783033, 45.98246912629903, 53.76756289283932, 0.0, 0.0, 0.0, 0.0, 0.0, 0.0, 404.6326315205098, 462.8970324368477, 339.6311939322353, 240.22541178309922, 46.7235396733135, 54.226427117899064, 0.0, 0.0, 0.0, 0.0, 0.0, 0.0, 405.0689587579966, 463.3189936523438, 341.33366052210334, 240.32578796911244, 46.247194463565954, 53.958871581316004, 0.0, 0.0, 0.0, 0.0, 0.0, 0.0, 404.81362480080134, 463.03720575821404, 340.22113067346817, 240.2431019816995, 46.550537202179434, 54.130601334482435, 0.0]\n"
          ],
          "name": "stdout"
        }
      ]
    },
    {
      "cell_type": "code",
      "metadata": {
        "id": "KdjcK7DaNLrX"
      },
      "source": [
        ""
      ],
      "execution_count": null,
      "outputs": []
    }
  ]
}